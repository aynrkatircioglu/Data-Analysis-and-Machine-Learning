{
 "cells": [
  {
   "cell_type": "markdown",
   "id": "recent-worcester",
   "metadata": {
    "papermill": {
     "duration": 0.059552,
     "end_time": "2021-05-15T15:43:48.494772",
     "exception": false,
     "start_time": "2021-05-15T15:43:48.435220",
     "status": "completed"
    },
    "tags": []
   },
   "source": [
    "# Doğrusal Regresyon Egzersizleri"
   ]
  },
  {
   "cell_type": "markdown",
   "id": "pediatric-horror",
   "metadata": {
    "papermill": {
     "duration": 0.066609,
     "end_time": "2021-05-15T15:43:48.617418",
     "exception": false,
     "start_time": "2021-05-15T15:43:48.550809",
     "status": "completed"
    },
    "tags": []
   },
   "source": [
    "50 adet Startup'ın araştırma ve geliştirmeye yönelik harcaması, yönetime yönelik harcaması, pazarlama harcaması, kazandıkları kar miktarı ve kuruldukları lokasyon bilgisi bulunmaktadır. Amaç kar miktarını tahmin etmektir. Bu bir sayısal tahmin problemidir ve bağımlı değişkenimiz \"Profit\"."
   ]
  },
  {
   "cell_type": "markdown",
   "id": "opponent-network",
   "metadata": {
    "papermill": {
     "duration": 0.050414,
     "end_time": "2021-05-15T15:43:48.726113",
     "exception": false,
     "start_time": "2021-05-15T15:43:48.675699",
     "status": "completed"
    },
    "tags": []
   },
   "source": [
    "Numpy, matplotlib.pyplot, pandas ve seaborn kütüphanelerini çekirdeğe dahil edelim."
   ]
  },
  {
   "cell_type": "code",
   "execution_count": 1,
   "id": "grateful-lincoln",
   "metadata": {
    "execution": {
     "iopub.execute_input": "2021-05-15T15:43:48.839271Z",
     "iopub.status.busy": "2021-05-15T15:43:48.838606Z",
     "iopub.status.idle": "2021-05-15T15:43:49.677118Z",
     "shell.execute_reply": "2021-05-15T15:43:49.677630Z"
    },
    "papermill": {
     "duration": 0.901217,
     "end_time": "2021-05-15T15:43:49.677972",
     "exception": false,
     "start_time": "2021-05-15T15:43:48.776755",
     "status": "completed"
    },
    "tags": []
   },
   "outputs": [],
   "source": [
    "import numpy as np\n",
    "import matplotlib.pyplot as plt\n",
    "import pandas as pd\n",
    "import seaborn as sns"
   ]
  },
  {
   "cell_type": "markdown",
   "id": "dramatic-jaguar",
   "metadata": {
    "papermill": {
     "duration": 0.050582,
     "end_time": "2021-05-15T15:43:49.779925",
     "exception": false,
     "start_time": "2021-05-15T15:43:49.729343",
     "status": "completed"
    },
    "tags": []
   },
   "source": [
    "Dizinde bulunan veri çerçevemizi startups değişkenine atayalım. startups değişkenini df değişkenine kopyalayarak kullanmaya başlayalım."
   ]
  },
  {
   "cell_type": "code",
   "execution_count": 2,
   "id": "confident-chess",
   "metadata": {
    "execution": {
     "iopub.execute_input": "2021-05-15T15:43:49.884793Z",
     "iopub.status.busy": "2021-05-15T15:43:49.884186Z",
     "iopub.status.idle": "2021-05-15T15:43:49.910751Z",
     "shell.execute_reply": "2021-05-15T15:43:49.911469Z"
    },
    "papermill": {
     "duration": 0.080754,
     "end_time": "2021-05-15T15:43:49.911686",
     "exception": false,
     "start_time": "2021-05-15T15:43:49.830932",
     "status": "completed"
    },
    "tags": []
   },
   "outputs": [],
   "source": [
    "startups = pd.read_csv(\"../input/50-startups/50_Startups.csv\", sep=\",\")\n",
    "df = startups.copy()"
   ]
  },
  {
   "cell_type": "markdown",
   "id": "cheap-blink",
   "metadata": {
    "papermill": {
     "duration": 0.05079,
     "end_time": "2021-05-15T15:43:50.015080",
     "exception": false,
     "start_time": "2021-05-15T15:43:49.964290",
     "status": "completed"
    },
    "tags": []
   },
   "source": [
    "İlk 5 gözlemini yazdıralım."
   ]
  },
  {
   "cell_type": "code",
   "execution_count": 3,
   "id": "induced-induction",
   "metadata": {
    "execution": {
     "iopub.execute_input": "2021-05-15T15:43:50.121591Z",
     "iopub.status.busy": "2021-05-15T15:43:50.120911Z",
     "iopub.status.idle": "2021-05-15T15:43:50.149164Z",
     "shell.execute_reply": "2021-05-15T15:43:50.149731Z"
    },
    "papermill": {
     "duration": 0.082986,
     "end_time": "2021-05-15T15:43:50.149913",
     "exception": false,
     "start_time": "2021-05-15T15:43:50.066927",
     "status": "completed"
    },
    "tags": []
   },
   "outputs": [
    {
     "data": {
      "text/html": [
       "<div>\n",
       "<style scoped>\n",
       "    .dataframe tbody tr th:only-of-type {\n",
       "        vertical-align: middle;\n",
       "    }\n",
       "\n",
       "    .dataframe tbody tr th {\n",
       "        vertical-align: top;\n",
       "    }\n",
       "\n",
       "    .dataframe thead th {\n",
       "        text-align: right;\n",
       "    }\n",
       "</style>\n",
       "<table border=\"1\" class=\"dataframe\">\n",
       "  <thead>\n",
       "    <tr style=\"text-align: right;\">\n",
       "      <th></th>\n",
       "      <th>R&amp;D Spend</th>\n",
       "      <th>Administration</th>\n",
       "      <th>Marketing Spend</th>\n",
       "      <th>State</th>\n",
       "      <th>Profit</th>\n",
       "    </tr>\n",
       "  </thead>\n",
       "  <tbody>\n",
       "    <tr>\n",
       "      <th>0</th>\n",
       "      <td>165349.20</td>\n",
       "      <td>136897.80</td>\n",
       "      <td>471784.10</td>\n",
       "      <td>New York</td>\n",
       "      <td>192261.83</td>\n",
       "    </tr>\n",
       "    <tr>\n",
       "      <th>1</th>\n",
       "      <td>162597.70</td>\n",
       "      <td>151377.59</td>\n",
       "      <td>443898.53</td>\n",
       "      <td>California</td>\n",
       "      <td>191792.06</td>\n",
       "    </tr>\n",
       "    <tr>\n",
       "      <th>2</th>\n",
       "      <td>153441.51</td>\n",
       "      <td>101145.55</td>\n",
       "      <td>407934.54</td>\n",
       "      <td>Florida</td>\n",
       "      <td>191050.39</td>\n",
       "    </tr>\n",
       "    <tr>\n",
       "      <th>3</th>\n",
       "      <td>144372.41</td>\n",
       "      <td>118671.85</td>\n",
       "      <td>383199.62</td>\n",
       "      <td>New York</td>\n",
       "      <td>182901.99</td>\n",
       "    </tr>\n",
       "    <tr>\n",
       "      <th>4</th>\n",
       "      <td>142107.34</td>\n",
       "      <td>91391.77</td>\n",
       "      <td>366168.42</td>\n",
       "      <td>Florida</td>\n",
       "      <td>166187.94</td>\n",
       "    </tr>\n",
       "  </tbody>\n",
       "</table>\n",
       "</div>"
      ],
      "text/plain": [
       "   R&D Spend  Administration  Marketing Spend       State     Profit\n",
       "0  165349.20       136897.80        471784.10    New York  192261.83\n",
       "1  162597.70       151377.59        443898.53  California  191792.06\n",
       "2  153441.51       101145.55        407934.54     Florida  191050.39\n",
       "3  144372.41       118671.85        383199.62    New York  182901.99\n",
       "4  142107.34        91391.77        366168.42     Florida  166187.94"
      ]
     },
     "execution_count": 3,
     "metadata": {},
     "output_type": "execute_result"
    }
   ],
   "source": [
    "df.head() "
   ]
  },
  {
   "cell_type": "markdown",
   "id": "secret-cycling",
   "metadata": {
    "papermill": {
     "duration": 0.051424,
     "end_time": "2021-05-15T15:43:50.253116",
     "exception": false,
     "start_time": "2021-05-15T15:43:50.201692",
     "status": "completed"
    },
    "tags": []
   },
   "source": [
    "Veri çerçevesinin bilgilerini görüntüleyelim."
   ]
  },
  {
   "cell_type": "code",
   "execution_count": 4,
   "id": "rational-matter",
   "metadata": {
    "execution": {
     "iopub.execute_input": "2021-05-15T15:43:50.359742Z",
     "iopub.status.busy": "2021-05-15T15:43:50.359163Z",
     "iopub.status.idle": "2021-05-15T15:43:50.378589Z",
     "shell.execute_reply": "2021-05-15T15:43:50.379171Z"
    },
    "papermill": {
     "duration": 0.074396,
     "end_time": "2021-05-15T15:43:50.379350",
     "exception": false,
     "start_time": "2021-05-15T15:43:50.304954",
     "status": "completed"
    },
    "tags": []
   },
   "outputs": [
    {
     "name": "stdout",
     "output_type": "stream",
     "text": [
      "<class 'pandas.core.frame.DataFrame'>\n",
      "RangeIndex: 50 entries, 0 to 49\n",
      "Data columns (total 5 columns):\n",
      " #   Column           Non-Null Count  Dtype  \n",
      "---  ------           --------------  -----  \n",
      " 0   R&D Spend        50 non-null     float64\n",
      " 1   Administration   50 non-null     float64\n",
      " 2   Marketing Spend  50 non-null     float64\n",
      " 3   State            50 non-null     object \n",
      " 4   Profit           50 non-null     float64\n",
      "dtypes: float64(4), object(1)\n",
      "memory usage: 2.1+ KB\n"
     ]
    }
   ],
   "source": [
    "df.info()"
   ]
  },
  {
   "cell_type": "markdown",
   "id": "gross-egyptian",
   "metadata": {
    "papermill": {
     "duration": 0.052372,
     "end_time": "2021-05-15T15:43:50.484068",
     "exception": false,
     "start_time": "2021-05-15T15:43:50.431696",
     "status": "completed"
    },
    "tags": []
   },
   "source": [
    "Kaç gözlem ve öznitelikten oluştuğunu görüntüleyelim."
   ]
  },
  {
   "cell_type": "code",
   "execution_count": 5,
   "id": "interpreted-sample",
   "metadata": {
    "execution": {
     "iopub.execute_input": "2021-05-15T15:43:50.592560Z",
     "iopub.status.busy": "2021-05-15T15:43:50.591930Z",
     "iopub.status.idle": "2021-05-15T15:43:50.598022Z",
     "shell.execute_reply": "2021-05-15T15:43:50.597523Z"
    },
    "papermill": {
     "duration": 0.061665,
     "end_time": "2021-05-15T15:43:50.598162",
     "exception": false,
     "start_time": "2021-05-15T15:43:50.536497",
     "status": "completed"
    },
    "tags": []
   },
   "outputs": [
    {
     "data": {
      "text/plain": [
       "(50, 5)"
      ]
     },
     "execution_count": 5,
     "metadata": {},
     "output_type": "execute_result"
    }
   ],
   "source": [
    "df.shape"
   ]
  },
  {
   "cell_type": "markdown",
   "id": "completed-bones",
   "metadata": {
    "papermill": {
     "duration": 0.052626,
     "end_time": "2021-05-15T15:43:50.704368",
     "exception": false,
     "start_time": "2021-05-15T15:43:50.651742",
     "status": "completed"
    },
    "tags": []
   },
   "source": [
    "→ 50 gözlem ve 5 değişkenden oluşuyor."
   ]
  },
  {
   "cell_type": "markdown",
   "id": "digital-peter",
   "metadata": {
    "papermill": {
     "duration": 0.052502,
     "end_time": "2021-05-15T15:43:50.809295",
     "exception": false,
     "start_time": "2021-05-15T15:43:50.756793",
     "status": "completed"
    },
    "tags": []
   },
   "source": [
    "Eksik verileri kontrol edelim."
   ]
  },
  {
   "cell_type": "code",
   "execution_count": 6,
   "id": "indirect-indicator",
   "metadata": {
    "execution": {
     "iopub.execute_input": "2021-05-15T15:43:50.921765Z",
     "iopub.status.busy": "2021-05-15T15:43:50.921144Z",
     "iopub.status.idle": "2021-05-15T15:43:50.923942Z",
     "shell.execute_reply": "2021-05-15T15:43:50.924412Z"
    },
    "papermill": {
     "duration": 0.062649,
     "end_time": "2021-05-15T15:43:50.924583",
     "exception": false,
     "start_time": "2021-05-15T15:43:50.861934",
     "status": "completed"
    },
    "tags": []
   },
   "outputs": [
    {
     "data": {
      "text/plain": [
       "R&D Spend          0\n",
       "Administration     0\n",
       "Marketing Spend    0\n",
       "State              0\n",
       "Profit             0\n",
       "dtype: int64"
      ]
     },
     "execution_count": 6,
     "metadata": {},
     "output_type": "execute_result"
    }
   ],
   "source": [
    "df.isna().sum() # görmüş olduğumuz gibi eksik verimiz yok"
   ]
  },
  {
   "cell_type": "markdown",
   "id": "exterior-criminal",
   "metadata": {
    "papermill": {
     "duration": 0.053959,
     "end_time": "2021-05-15T15:43:51.032252",
     "exception": false,
     "start_time": "2021-05-15T15:43:50.978293",
     "status": "completed"
    },
    "tags": []
   },
   "source": [
    "Korelasyon matrisi çizdirelim."
   ]
  },
  {
   "cell_type": "code",
   "execution_count": 7,
   "id": "continental-scroll",
   "metadata": {
    "execution": {
     "iopub.execute_input": "2021-05-15T15:43:51.142056Z",
     "iopub.status.busy": "2021-05-15T15:43:51.141359Z",
     "iopub.status.idle": "2021-05-15T15:43:51.154360Z",
     "shell.execute_reply": "2021-05-15T15:43:51.154849Z"
    },
    "papermill": {
     "duration": 0.069013,
     "end_time": "2021-05-15T15:43:51.155026",
     "exception": false,
     "start_time": "2021-05-15T15:43:51.086013",
     "status": "completed"
    },
    "tags": []
   },
   "outputs": [
    {
     "data": {
      "text/html": [
       "<div>\n",
       "<style scoped>\n",
       "    .dataframe tbody tr th:only-of-type {\n",
       "        vertical-align: middle;\n",
       "    }\n",
       "\n",
       "    .dataframe tbody tr th {\n",
       "        vertical-align: top;\n",
       "    }\n",
       "\n",
       "    .dataframe thead th {\n",
       "        text-align: right;\n",
       "    }\n",
       "</style>\n",
       "<table border=\"1\" class=\"dataframe\">\n",
       "  <thead>\n",
       "    <tr style=\"text-align: right;\">\n",
       "      <th></th>\n",
       "      <th>R&amp;D Spend</th>\n",
       "      <th>Administration</th>\n",
       "      <th>Marketing Spend</th>\n",
       "      <th>Profit</th>\n",
       "    </tr>\n",
       "  </thead>\n",
       "  <tbody>\n",
       "    <tr>\n",
       "      <th>R&amp;D Spend</th>\n",
       "      <td>1.000000</td>\n",
       "      <td>0.241955</td>\n",
       "      <td>0.724248</td>\n",
       "      <td>0.972900</td>\n",
       "    </tr>\n",
       "    <tr>\n",
       "      <th>Administration</th>\n",
       "      <td>0.241955</td>\n",
       "      <td>1.000000</td>\n",
       "      <td>-0.032154</td>\n",
       "      <td>0.200717</td>\n",
       "    </tr>\n",
       "    <tr>\n",
       "      <th>Marketing Spend</th>\n",
       "      <td>0.724248</td>\n",
       "      <td>-0.032154</td>\n",
       "      <td>1.000000</td>\n",
       "      <td>0.747766</td>\n",
       "    </tr>\n",
       "    <tr>\n",
       "      <th>Profit</th>\n",
       "      <td>0.972900</td>\n",
       "      <td>0.200717</td>\n",
       "      <td>0.747766</td>\n",
       "      <td>1.000000</td>\n",
       "    </tr>\n",
       "  </tbody>\n",
       "</table>\n",
       "</div>"
      ],
      "text/plain": [
       "                 R&D Spend  Administration  Marketing Spend    Profit\n",
       "R&D Spend         1.000000        0.241955         0.724248  0.972900\n",
       "Administration    0.241955        1.000000        -0.032154  0.200717\n",
       "Marketing Spend   0.724248       -0.032154         1.000000  0.747766\n",
       "Profit            0.972900        0.200717         0.747766  1.000000"
      ]
     },
     "execution_count": 7,
     "metadata": {},
     "output_type": "execute_result"
    }
   ],
   "source": [
    "corr = df.corr()\n",
    "corr"
   ]
  },
  {
   "cell_type": "markdown",
   "id": "creative-smart",
   "metadata": {
    "papermill": {
     "duration": 0.053418,
     "end_time": "2021-05-15T15:43:51.261884",
     "exception": false,
     "start_time": "2021-05-15T15:43:51.208466",
     "status": "completed"
    },
    "tags": []
   },
   "source": [
    "→ Korelasyon 1.0'e yaklaştıkça değerler arasındaki ilişki o kadar güçlenir. Burada **Profit** ile **R&D Spend** arasında 1'e yakın bir değer (0.972900) gözlenmiş bu demek oluyor ki ikisi arasında pozitif nerdeyse mükemmel bir ilişki vardır. **Marketing Spend** ile de **Administration** arasında da negatif bir ilişki olduğunu söyleyebiliriz."
   ]
  },
  {
   "cell_type": "markdown",
   "id": "alpine-treasurer",
   "metadata": {
    "papermill": {
     "duration": 0.053285,
     "end_time": "2021-05-15T15:43:51.368783",
     "exception": false,
     "start_time": "2021-05-15T15:43:51.315498",
     "status": "completed"
    },
    "tags": []
   },
   "source": [
    "Seaborn ile korelasyon matrisinin ısı haritasını çizdirelim."
   ]
  },
  {
   "cell_type": "code",
   "execution_count": 8,
   "id": "accessible-lafayette",
   "metadata": {
    "execution": {
     "iopub.execute_input": "2021-05-15T15:43:51.479148Z",
     "iopub.status.busy": "2021-05-15T15:43:51.478493Z",
     "iopub.status.idle": "2021-05-15T15:43:51.721457Z",
     "shell.execute_reply": "2021-05-15T15:43:51.720848Z"
    },
    "papermill": {
     "duration": 0.299082,
     "end_time": "2021-05-15T15:43:51.721594",
     "exception": false,
     "start_time": "2021-05-15T15:43:51.422512",
     "status": "completed"
    },
    "tags": []
   },
   "outputs": [
    {
     "data": {
      "image/png": "[encoded data removed]",
      "text/plain": [
       "<Figure size 432x288 with 2 Axes>"
      ]
     },
     "metadata": {
      "needs_background": "light"
     },
     "output_type": "display_data"
    }
   ],
   "source": [
    "sns.heatmap(corr,\n",
    "            xticklabels=corr.columns.values,\n",
    "            yticklabels=corr.columns.values);"
   ]
  },
  {
   "cell_type": "markdown",
   "id": "viral-stewart",
   "metadata": {
    "papermill": {
     "duration": 0.054746,
     "end_time": "2021-05-15T15:43:51.831507",
     "exception": false,
     "start_time": "2021-05-15T15:43:51.776761",
     "status": "completed"
    },
    "tags": []
   },
   "source": [
    "R&D Spend ve Profit arasındaki korelasyonu daha iyi görebilmek için scatterplot çizdirelim."
   ]
  },
  {
   "cell_type": "code",
   "execution_count": 9,
   "id": "individual-jimmy",
   "metadata": {
    "execution": {
     "iopub.execute_input": "2021-05-15T15:43:51.979796Z",
     "iopub.status.busy": "2021-05-15T15:43:51.979172Z",
     "iopub.status.idle": "2021-05-15T15:43:52.148051Z",
     "shell.execute_reply": "2021-05-15T15:43:52.147472Z"
    },
    "papermill": {
     "duration": 0.261815,
     "end_time": "2021-05-15T15:43:52.148191",
     "exception": false,
     "start_time": "2021-05-15T15:43:51.886376",
     "status": "completed"
    },
    "tags": []
   },
   "outputs": [
    {
     "data": {
      "image/png": "[encoded data removed]",
      "text/plain": [
       "<Figure size 432x288 with 1 Axes>"
      ]
     },
     "metadata": {
      "needs_background": "light"
     },
     "output_type": "display_data"
    }
   ],
   "source": [
    "sns.scatterplot(x = \"R&D Spend\", y = \"Profit\", data = df); "
   ]
  },
  {
   "cell_type": "code",
   "execution_count": 10,
   "id": "peripheral-gibson",
   "metadata": {
    "execution": {
     "iopub.execute_input": "2021-05-15T15:43:52.267033Z",
     "iopub.status.busy": "2021-05-15T15:43:52.266007Z",
     "iopub.status.idle": "2021-05-15T15:43:52.450709Z",
     "shell.execute_reply": "2021-05-15T15:43:52.450172Z"
    },
    "papermill": {
     "duration": 0.246419,
     "end_time": "2021-05-15T15:43:52.450866",
     "exception": false,
     "start_time": "2021-05-15T15:43:52.204447",
     "status": "completed"
    },
    "tags": []
   },
   "outputs": [
    {
     "name": "stderr",
     "output_type": "stream",
     "text": [
      "/opt/conda/lib/python3.7/site-packages/seaborn/_decorators.py:43: FutureWarning: Pass the following variables as keyword args: x, y. From version 0.12, the only valid positional argument will be `data`, and passing other arguments without an explicit keyword will result in an error or misinterpretation.\n",
      "  FutureWarning\n"
     ]
    },
    {
     "data": {
      "text/plain": [
       "<AxesSubplot:xlabel='R&D Spend', ylabel='Profit'>"
      ]
     },
     "execution_count": 10,
     "metadata": {},
     "output_type": "execute_result"
    },
    {
     "data": {
      "image/png": "[encoded data removed]",
      "text/plain": [
       "<Figure size 432x288 with 1 Axes>"
      ]
     },
     "metadata": {
      "needs_background": "light"
     },
     "output_type": "display_data"
    }
   ],
   "source": [
    "sns.regplot(df[\"R&D Spend\"],df[\"Profit\"] , ci=None)"
   ]
  },
  {
   "cell_type": "markdown",
   "id": "fiscal-school",
   "metadata": {
    "papermill": {
     "duration": 0.057765,
     "end_time": "2021-05-15T15:43:52.567215",
     "exception": false,
     "start_time": "2021-05-15T15:43:52.509450",
     "status": "completed"
    },
    "tags": []
   },
   "source": [
    "* profit sadece bir değişkene bağlı değil birden fazla feature olduğundan → multiple \n",
    "* multiple: bir y eksenine birden fazla şeyin etki etmesi demektir\n",
    "* y = b0+ b1.x1+ b2.x2 doğru denklemi\n",
    "* profit= b0+ b1.r&d +b2.administration+....\n",
    "* b0: constant/sabit/bias ~ y eksenini kestiği nokta\n",
    "* b1: coeff/katsayı ~eğim\n",
    "* amaç: min(MSE)\n",
    "* profit: bağımlı değişken~dependent variable\n",
    "* administration,r&d,Marketing Spend: bağımsız değişken~independent variable\n",
    "\n"
   ]
  },
  {
   "cell_type": "markdown",
   "id": "three-recycling",
   "metadata": {
    "papermill": {
     "duration": 0.057071,
     "end_time": "2021-05-15T15:43:52.681963",
     "exception": false,
     "start_time": "2021-05-15T15:43:52.624892",
     "status": "completed"
    },
    "tags": []
   },
   "source": [
    "Sayısal değişkenlerin dağılımını görmek için df üzerinden histogram çizdirelim."
   ]
  },
  {
   "cell_type": "code",
   "execution_count": 11,
   "id": "expensive-front",
   "metadata": {
    "execution": {
     "iopub.execute_input": "2021-05-15T15:43:52.801657Z",
     "iopub.status.busy": "2021-05-15T15:43:52.801050Z",
     "iopub.status.idle": "2021-05-15T15:43:53.569771Z",
     "shell.execute_reply": "2021-05-15T15:43:53.570270Z"
    },
    "papermill": {
     "duration": 0.830893,
     "end_time": "2021-05-15T15:43:53.570435",
     "exception": false,
     "start_time": "2021-05-15T15:43:52.739542",
     "status": "completed"
    },
    "tags": []
   },
   "outputs": [
    {
     "name": "stderr",
     "output_type": "stream",
     "text": [
      "/opt/conda/lib/python3.7/site-packages/pandas/plotting/_matplotlib/tools.py:400: MatplotlibDeprecationWarning: \n",
      "The is_first_col function was deprecated in Matplotlib 3.4 and will be removed two minor releases later. Use ax.get_subplotspec().is_first_col() instead.\n",
      "  if ax.is_first_col():\n"
     ]
    },
    {
     "data": {
      "text/plain": [
       "array([[<AxesSubplot:title={'center':'R&D Spend'}>,\n",
       "        <AxesSubplot:title={'center':'Administration'}>],\n",
       "       [<AxesSubplot:title={'center':'Marketing Spend'}>,\n",
       "        <AxesSubplot:title={'center':'Profit'}>]], dtype=object)"
      ]
     },
     "execution_count": 11,
     "metadata": {},
     "output_type": "execute_result"
    },
    {
     "data": {
      "image/png": "[encoded data removed]",
      "text/plain": [
       "<Figure size 1080x1440 with 4 Axes>"
      ]
     },
     "metadata": {
      "needs_background": "light"
     },
     "output_type": "display_data"
    }
   ],
   "source": [
    "df.hist(figsize =(15,20))"
   ]
  },
  {
   "cell_type": "markdown",
   "id": "black-subject",
   "metadata": {
    "papermill": {
     "duration": 0.059343,
     "end_time": "2021-05-15T15:43:53.689510",
     "exception": false,
     "start_time": "2021-05-15T15:43:53.630167",
     "status": "completed"
    },
    "tags": []
   },
   "source": [
    "→Histogram şemaları verilerin devam eden ya da belirli zaman aralığındaki dağılımını göstermek için kullanılır. Değerlerin nerede yoğunlaştığını, maksimum ve minimum noktalarını, veriler arasındaki kopmalar ve olağandışı değerler olup olmadığı hakkında tahminde bulunulmasına yardımcı olur.\n",
    "\n",
    "* R&D Spend histogramını bakarsak; verilerin 0'dan 150 bin daha fazla tahmini olarak 170 bin gibi değerlere sahip olduğunu görebiliriz aynı zamanda verimizin 50bin ile 80 bin arasında daha yoğun olduğunu görüyoruz. Burada en küçük değer olarak sıfırı görüyoruz. Yani bazı startuplar araştırma geliştirmeye(Research and Development) bütçe ayırmadığı ya da çok küçük bir bütçe ayırdığını görebiliyoruz.\n",
    "\n",
    "* Marketing Spend histogramını bakarsak; verilerin 0 ve tahmini olarak 320 bin arasında daha yoğun olduğunu söyleyebiliriz. Yani bazı startuplar pazarlamaya hiç bütçe ayırmazken bazı startuplar ise çok büyük bütçeler ayırabiliyor.\n",
    "\n",
    "* Administration histogramını bakarsak; verilerin 90 bin ile 150 bin arasında daha yoğun olduğunu görebiliyoruz. Genel bir gözle bakarsak 100 bin  ile 200 bin aralığında bütçeden yapılan harcamalarsa en fazla harcama yönetime yapılmış.Yönetim bu parayı şirket karı için kullanmış olabilirler bu da profit'e yansır ya da sadece kendi giderleri için kullanmış olabilirler. Bu yüzden yönetim harcamaları ile karın korelasyonuna bakmak istiyorum."
   ]
  },
  {
   "cell_type": "code",
   "execution_count": 12,
   "id": "proved-jacket",
   "metadata": {
    "execution": {
     "iopub.execute_input": "2021-05-15T15:43:53.814477Z",
     "iopub.status.busy": "2021-05-15T15:43:53.813565Z",
     "iopub.status.idle": "2021-05-15T15:43:53.819134Z",
     "shell.execute_reply": "2021-05-15T15:43:53.819564Z"
    },
    "papermill": {
     "duration": 0.070948,
     "end_time": "2021-05-15T15:43:53.819736",
     "exception": false,
     "start_time": "2021-05-15T15:43:53.748788",
     "status": "completed"
    },
    "tags": []
   },
   "outputs": [
    {
     "data": {
      "text/plain": [
       "0.20071656826872125"
      ]
     },
     "execution_count": 12,
     "metadata": {},
     "output_type": "execute_result"
    }
   ],
   "source": [
    "df.corr()[\"Administration\"][\"Profit\"]"
   ]
  },
  {
   "cell_type": "markdown",
   "id": "clean-trick",
   "metadata": {
    "papermill": {
     "duration": 0.059896,
     "end_time": "2021-05-15T15:43:53.940178",
     "exception": false,
     "start_time": "2021-05-15T15:43:53.880282",
     "status": "completed"
    },
    "tags": []
   },
   "source": [
    "* Administrationı ve Profit arasındaki korelasyona baktığımda \"0.20071656826872125\" değerini gördük. Yönetim bu parayı şirket karı için kullanmamış diyebiliriz. Belki bu harcamanın içinde maaşlar yer alıyor olabilir."
   ]
  },
  {
   "cell_type": "markdown",
   "id": "incorporate-solution",
   "metadata": {
    "papermill": {
     "duration": 0.061943,
     "end_time": "2021-05-15T15:43:54.062079",
     "exception": false,
     "start_time": "2021-05-15T15:43:54.000136",
     "status": "completed"
    },
    "tags": []
   },
   "source": [
    "Veri çerçevesinin temel istatistik değerlerini görüntüleyelim."
   ]
  },
  {
   "cell_type": "code",
   "execution_count": 13,
   "id": "instrumental-execution",
   "metadata": {
    "execution": {
     "iopub.execute_input": "2021-05-15T15:43:54.190340Z",
     "iopub.status.busy": "2021-05-15T15:43:54.189565Z",
     "iopub.status.idle": "2021-05-15T15:43:54.214119Z",
     "shell.execute_reply": "2021-05-15T15:43:54.214618Z"
    },
    "papermill": {
     "duration": 0.091912,
     "end_time": "2021-05-15T15:43:54.214795",
     "exception": false,
     "start_time": "2021-05-15T15:43:54.122883",
     "status": "completed"
    },
    "tags": []
   },
   "outputs": [
    {
     "data": {
      "text/html": [
       "<div>\n",
       "<style scoped>\n",
       "    .dataframe tbody tr th:only-of-type {\n",
       "        vertical-align: middle;\n",
       "    }\n",
       "\n",
       "    .dataframe tbody tr th {\n",
       "        vertical-align: top;\n",
       "    }\n",
       "\n",
       "    .dataframe thead th {\n",
       "        text-align: right;\n",
       "    }\n",
       "</style>\n",
       "<table border=\"1\" class=\"dataframe\">\n",
       "  <thead>\n",
       "    <tr style=\"text-align: right;\">\n",
       "      <th></th>\n",
       "      <th>count</th>\n",
       "      <th>mean</th>\n",
       "      <th>std</th>\n",
       "      <th>min</th>\n",
       "      <th>25%</th>\n",
       "      <th>50%</th>\n",
       "      <th>75%</th>\n",
       "      <th>max</th>\n",
       "    </tr>\n",
       "  </thead>\n",
       "  <tbody>\n",
       "    <tr>\n",
       "      <th>R&amp;D Spend</th>\n",
       "      <td>50.0</td>\n",
       "      <td>73721.6156</td>\n",
       "      <td>45902.256482</td>\n",
       "      <td>0.00</td>\n",
       "      <td>39936.3700</td>\n",
       "      <td>73051.080</td>\n",
       "      <td>101602.8000</td>\n",
       "      <td>165349.20</td>\n",
       "    </tr>\n",
       "    <tr>\n",
       "      <th>Administration</th>\n",
       "      <td>50.0</td>\n",
       "      <td>121344.6396</td>\n",
       "      <td>28017.802755</td>\n",
       "      <td>51283.14</td>\n",
       "      <td>103730.8750</td>\n",
       "      <td>122699.795</td>\n",
       "      <td>144842.1800</td>\n",
       "      <td>182645.56</td>\n",
       "    </tr>\n",
       "    <tr>\n",
       "      <th>Marketing Spend</th>\n",
       "      <td>50.0</td>\n",
       "      <td>211025.0978</td>\n",
       "      <td>122290.310726</td>\n",
       "      <td>0.00</td>\n",
       "      <td>129300.1325</td>\n",
       "      <td>212716.240</td>\n",
       "      <td>299469.0850</td>\n",
       "      <td>471784.10</td>\n",
       "    </tr>\n",
       "    <tr>\n",
       "      <th>Profit</th>\n",
       "      <td>50.0</td>\n",
       "      <td>112012.6392</td>\n",
       "      <td>40306.180338</td>\n",
       "      <td>14681.40</td>\n",
       "      <td>90138.9025</td>\n",
       "      <td>107978.190</td>\n",
       "      <td>139765.9775</td>\n",
       "      <td>192261.83</td>\n",
       "    </tr>\n",
       "  </tbody>\n",
       "</table>\n",
       "</div>"
      ],
      "text/plain": [
       "                 count         mean            std       min          25%  \\\n",
       "R&D Spend         50.0   73721.6156   45902.256482      0.00   39936.3700   \n",
       "Administration    50.0  121344.6396   28017.802755  51283.14  103730.8750   \n",
       "Marketing Spend   50.0  211025.0978  122290.310726      0.00  129300.1325   \n",
       "Profit            50.0  112012.6392   40306.180338  14681.40   90138.9025   \n",
       "\n",
       "                        50%          75%        max  \n",
       "R&D Spend         73051.080  101602.8000  165349.20  \n",
       "Administration   122699.795  144842.1800  182645.56  \n",
       "Marketing Spend  212716.240  299469.0850  471784.10  \n",
       "Profit           107978.190  139765.9775  192261.83  "
      ]
     },
     "execution_count": 13,
     "metadata": {},
     "output_type": "execute_result"
    }
   ],
   "source": [
    "df.describe().T"
   ]
  },
  {
   "cell_type": "markdown",
   "id": "disciplinary-encyclopedia",
   "metadata": {
    "papermill": {
     "duration": 0.060217,
     "end_time": "2021-05-15T15:43:54.335959",
     "exception": false,
     "start_time": "2021-05-15T15:43:54.275742",
     "status": "completed"
    },
    "tags": []
   },
   "source": [
    "* Standart sapma çok yüksek neredeyse özniteliklerimin ortalama değerlerinin yarısı kadar.\n",
    "\n",
    "\n",
    "\n",
    "\n",
    "Eğer bir veri ortalamaya yakın ise standart sapma düşük olur ama eğer ortalamaya uzakta bir dağılım söz konusuysa standart sapma değeri  büyük olur. Varyans standart sapmanın karesi olduğundan ortalamaları ve standart sapma değerleri ile varyans yorumu yapabiliriz.\n",
    "* Standart sapması en yüksek olan değer \"Marketing Spend\" dir. Bu yüzden en yüksek varyansa sahiptir.\n",
    "* Standart sapması en düşük değer ise \"Administration\" dir. Bu yüzden en küçük varyans değerine sahiptir."
   ]
  },
  {
   "cell_type": "markdown",
   "id": "armed-tragedy",
   "metadata": {
    "papermill": {
     "duration": 0.060908,
     "end_time": "2021-05-15T15:43:54.457358",
     "exception": false,
     "start_time": "2021-05-15T15:43:54.396450",
     "status": "completed"
    },
    "tags": []
   },
   "source": [
    "State'a ait benzersiz değerleri görüntüleyelim."
   ]
  },
  {
   "cell_type": "code",
   "execution_count": 14,
   "id": "russian-directive",
   "metadata": {
    "execution": {
     "iopub.execute_input": "2021-05-15T15:43:54.582197Z",
     "iopub.status.busy": "2021-05-15T15:43:54.581249Z",
     "iopub.status.idle": "2021-05-15T15:43:54.587062Z",
     "shell.execute_reply": "2021-05-15T15:43:54.587644Z"
    },
    "papermill": {
     "duration": 0.069922,
     "end_time": "2021-05-15T15:43:54.587813",
     "exception": false,
     "start_time": "2021-05-15T15:43:54.517891",
     "status": "completed"
    },
    "tags": []
   },
   "outputs": [
    {
     "data": {
      "text/plain": [
       "array(['New York', 'California', 'Florida'], dtype=object)"
      ]
     },
     "execution_count": 14,
     "metadata": {},
     "output_type": "execute_result"
    }
   ],
   "source": [
    "df[\"State\"].unique()"
   ]
  },
  {
   "cell_type": "markdown",
   "id": "impressed-azerbaijan",
   "metadata": {
    "papermill": {
     "duration": 0.060769,
     "end_time": "2021-05-15T15:43:54.709799",
     "exception": false,
     "start_time": "2021-05-15T15:43:54.649030",
     "status": "completed"
    },
    "tags": []
   },
   "source": [
    "get_dummies yardımıyla State'a dair kategorik öznitelik çıkarımlarında bulunalım. Çünkü State'ların birbirine üstünlüğü yok, nominaller. Ordinal değil."
   ]
  },
  {
   "cell_type": "code",
   "execution_count": 15,
   "id": "assigned-detection",
   "metadata": {
    "execution": {
     "iopub.execute_input": "2021-05-15T15:43:54.835679Z",
     "iopub.status.busy": "2021-05-15T15:43:54.834713Z",
     "iopub.status.idle": "2021-05-15T15:43:54.848354Z",
     "shell.execute_reply": "2021-05-15T15:43:54.848907Z"
    },
    "papermill": {
     "duration": 0.07834,
     "end_time": "2021-05-15T15:43:54.849076",
     "exception": false,
     "start_time": "2021-05-15T15:43:54.770736",
     "status": "completed"
    },
    "tags": []
   },
   "outputs": [
    {
     "data": {
      "text/html": [
       "<div>\n",
       "<style scoped>\n",
       "    .dataframe tbody tr th:only-of-type {\n",
       "        vertical-align: middle;\n",
       "    }\n",
       "\n",
       "    .dataframe tbody tr th {\n",
       "        vertical-align: top;\n",
       "    }\n",
       "\n",
       "    .dataframe thead th {\n",
       "        text-align: right;\n",
       "    }\n",
       "</style>\n",
       "<table border=\"1\" class=\"dataframe\">\n",
       "  <thead>\n",
       "    <tr style=\"text-align: right;\">\n",
       "      <th></th>\n",
       "      <th>StateOf_California</th>\n",
       "      <th>StateOf_Florida</th>\n",
       "      <th>StateOf_New York</th>\n",
       "    </tr>\n",
       "  </thead>\n",
       "  <tbody>\n",
       "    <tr>\n",
       "      <th>0</th>\n",
       "      <td>0</td>\n",
       "      <td>0</td>\n",
       "      <td>1</td>\n",
       "    </tr>\n",
       "    <tr>\n",
       "      <th>1</th>\n",
       "      <td>1</td>\n",
       "      <td>0</td>\n",
       "      <td>0</td>\n",
       "    </tr>\n",
       "    <tr>\n",
       "      <th>2</th>\n",
       "      <td>0</td>\n",
       "      <td>1</td>\n",
       "      <td>0</td>\n",
       "    </tr>\n",
       "    <tr>\n",
       "      <th>3</th>\n",
       "      <td>0</td>\n",
       "      <td>0</td>\n",
       "      <td>1</td>\n",
       "    </tr>\n",
       "    <tr>\n",
       "      <th>4</th>\n",
       "      <td>0</td>\n",
       "      <td>1</td>\n",
       "      <td>0</td>\n",
       "    </tr>\n",
       "  </tbody>\n",
       "</table>\n",
       "</div>"
      ],
      "text/plain": [
       "   StateOf_California  StateOf_Florida  StateOf_New York\n",
       "0                   0                0                 1\n",
       "1                   1                0                 0\n",
       "2                   0                1                 0\n",
       "3                   0                0                 1\n",
       "4                   0                1                 0"
      ]
     },
     "execution_count": 15,
     "metadata": {},
     "output_type": "execute_result"
    }
   ],
   "source": [
    "df['State'] = pd.Categorical(df['State'])\n",
    "dfDummies = pd.get_dummies(df['State'], prefix = 'StateOf') \n",
    "#pd.get_dummies(),veri işleme için kullanılır. Kategorik verileri kukla veya gösterge değişkenlere dönüştürür.\n",
    "#prefix = 'StateOf' , sütun adlarına ön ek eklemek için kullanılır\n",
    "dfDummies.head()#50 değeri göstermeyip sadece ilk beş gözlemi getiriyorum"
   ]
  },
  {
   "cell_type": "code",
   "execution_count": 16,
   "id": "associate-asset",
   "metadata": {
    "execution": {
     "iopub.execute_input": "2021-05-15T15:43:54.976299Z",
     "iopub.status.busy": "2021-05-15T15:43:54.975339Z",
     "iopub.status.idle": "2021-05-15T15:43:54.993337Z",
     "shell.execute_reply": "2021-05-15T15:43:54.992803Z"
    },
    "papermill": {
     "duration": 0.082619,
     "end_time": "2021-05-15T15:43:54.993489",
     "exception": false,
     "start_time": "2021-05-15T15:43:54.910870",
     "status": "completed"
    },
    "tags": []
   },
   "outputs": [
    {
     "data": {
      "text/html": [
       "<div>\n",
       "<style scoped>\n",
       "    .dataframe tbody tr th:only-of-type {\n",
       "        vertical-align: middle;\n",
       "    }\n",
       "\n",
       "    .dataframe tbody tr th {\n",
       "        vertical-align: top;\n",
       "    }\n",
       "\n",
       "    .dataframe thead th {\n",
       "        text-align: right;\n",
       "    }\n",
       "</style>\n",
       "<table border=\"1\" class=\"dataframe\">\n",
       "  <thead>\n",
       "    <tr style=\"text-align: right;\">\n",
       "      <th></th>\n",
       "      <th>R&amp;D Spend</th>\n",
       "      <th>Administration</th>\n",
       "      <th>Marketing Spend</th>\n",
       "      <th>State</th>\n",
       "      <th>Profit</th>\n",
       "      <th>StateOf_California</th>\n",
       "      <th>StateOf_Florida</th>\n",
       "      <th>StateOf_New York</th>\n",
       "    </tr>\n",
       "  </thead>\n",
       "  <tbody>\n",
       "    <tr>\n",
       "      <th>0</th>\n",
       "      <td>165349.20</td>\n",
       "      <td>136897.80</td>\n",
       "      <td>471784.10</td>\n",
       "      <td>New York</td>\n",
       "      <td>192261.83</td>\n",
       "      <td>0</td>\n",
       "      <td>0</td>\n",
       "      <td>1</td>\n",
       "    </tr>\n",
       "    <tr>\n",
       "      <th>1</th>\n",
       "      <td>162597.70</td>\n",
       "      <td>151377.59</td>\n",
       "      <td>443898.53</td>\n",
       "      <td>California</td>\n",
       "      <td>191792.06</td>\n",
       "      <td>1</td>\n",
       "      <td>0</td>\n",
       "      <td>0</td>\n",
       "    </tr>\n",
       "    <tr>\n",
       "      <th>2</th>\n",
       "      <td>153441.51</td>\n",
       "      <td>101145.55</td>\n",
       "      <td>407934.54</td>\n",
       "      <td>Florida</td>\n",
       "      <td>191050.39</td>\n",
       "      <td>0</td>\n",
       "      <td>1</td>\n",
       "      <td>0</td>\n",
       "    </tr>\n",
       "    <tr>\n",
       "      <th>3</th>\n",
       "      <td>144372.41</td>\n",
       "      <td>118671.85</td>\n",
       "      <td>383199.62</td>\n",
       "      <td>New York</td>\n",
       "      <td>182901.99</td>\n",
       "      <td>0</td>\n",
       "      <td>0</td>\n",
       "      <td>1</td>\n",
       "    </tr>\n",
       "    <tr>\n",
       "      <th>4</th>\n",
       "      <td>142107.34</td>\n",
       "      <td>91391.77</td>\n",
       "      <td>366168.42</td>\n",
       "      <td>Florida</td>\n",
       "      <td>166187.94</td>\n",
       "      <td>0</td>\n",
       "      <td>1</td>\n",
       "      <td>0</td>\n",
       "    </tr>\n",
       "  </tbody>\n",
       "</table>\n",
       "</div>"
      ],
      "text/plain": [
       "   R&D Spend  Administration  Marketing Spend       State     Profit  \\\n",
       "0  165349.20       136897.80        471784.10    New York  192261.83   \n",
       "1  162597.70       151377.59        443898.53  California  191792.06   \n",
       "2  153441.51       101145.55        407934.54     Florida  191050.39   \n",
       "3  144372.41       118671.85        383199.62    New York  182901.99   \n",
       "4  142107.34        91391.77        366168.42     Florida  166187.94   \n",
       "\n",
       "   StateOf_California  StateOf_Florida  StateOf_New York  \n",
       "0                   0                0                 1  \n",
       "1                   1                0                 0  \n",
       "2                   0                1                 0  \n",
       "3                   0                0                 1  \n",
       "4                   0                1                 0  "
      ]
     },
     "execution_count": 16,
     "metadata": {},
     "output_type": "execute_result"
    }
   ],
   "source": [
    "df = pd.concat([df, dfDummies], axis = 1)\n",
    "df.head()\n",
    "#concat fonksiyonunu kullanırken sütunların isimlerini ayrıca belirtmemize gerek olmadan serileri birleştirebiliriz."
   ]
  },
  {
   "cell_type": "markdown",
   "id": "portable-branch",
   "metadata": {
    "papermill": {
     "duration": 0.063147,
     "end_time": "2021-05-15T15:43:55.121027",
     "exception": false,
     "start_time": "2021-05-15T15:43:55.057880",
     "status": "completed"
    },
    "tags": []
   },
   "source": [
    "State özniteliğini silip dummy olarak yaratılan State'lardan da birisini hariç tutarak veri çerçevemizi güncelleyelim."
   ]
  },
  {
   "cell_type": "code",
   "execution_count": 17,
   "id": "executive-intermediate",
   "metadata": {
    "execution": {
     "iopub.execute_input": "2021-05-15T15:43:55.254073Z",
     "iopub.status.busy": "2021-05-15T15:43:55.253388Z",
     "iopub.status.idle": "2021-05-15T15:43:55.257969Z",
     "shell.execute_reply": "2021-05-15T15:43:55.257444Z"
    },
    "papermill": {
     "duration": 0.073748,
     "end_time": "2021-05-15T15:43:55.258120",
     "exception": false,
     "start_time": "2021-05-15T15:43:55.184372",
     "status": "completed"
    },
    "tags": []
   },
   "outputs": [],
   "source": [
    "df.drop([\"State\", \"StateOf_New York\"], axis = 1, inplace = True)"
   ]
  },
  {
   "cell_type": "code",
   "execution_count": 18,
   "id": "fossil-manual",
   "metadata": {
    "execution": {
     "iopub.execute_input": "2021-05-15T15:43:55.396342Z",
     "iopub.status.busy": "2021-05-15T15:43:55.395686Z",
     "iopub.status.idle": "2021-05-15T15:43:55.399273Z",
     "shell.execute_reply": "2021-05-15T15:43:55.398729Z"
    },
    "papermill": {
     "duration": 0.079008,
     "end_time": "2021-05-15T15:43:55.399414",
     "exception": false,
     "start_time": "2021-05-15T15:43:55.320406",
     "status": "completed"
    },
    "tags": []
   },
   "outputs": [
    {
     "data": {
      "text/html": [
       "<div>\n",
       "<style scoped>\n",
       "    .dataframe tbody tr th:only-of-type {\n",
       "        vertical-align: middle;\n",
       "    }\n",
       "\n",
       "    .dataframe tbody tr th {\n",
       "        vertical-align: top;\n",
       "    }\n",
       "\n",
       "    .dataframe thead th {\n",
       "        text-align: right;\n",
       "    }\n",
       "</style>\n",
       "<table border=\"1\" class=\"dataframe\">\n",
       "  <thead>\n",
       "    <tr style=\"text-align: right;\">\n",
       "      <th></th>\n",
       "      <th>R&amp;D Spend</th>\n",
       "      <th>Administration</th>\n",
       "      <th>Marketing Spend</th>\n",
       "      <th>Profit</th>\n",
       "      <th>StateOf_California</th>\n",
       "      <th>StateOf_Florida</th>\n",
       "    </tr>\n",
       "  </thead>\n",
       "  <tbody>\n",
       "    <tr>\n",
       "      <th>0</th>\n",
       "      <td>165349.20</td>\n",
       "      <td>136897.80</td>\n",
       "      <td>471784.10</td>\n",
       "      <td>192261.83</td>\n",
       "      <td>0</td>\n",
       "      <td>0</td>\n",
       "    </tr>\n",
       "    <tr>\n",
       "      <th>1</th>\n",
       "      <td>162597.70</td>\n",
       "      <td>151377.59</td>\n",
       "      <td>443898.53</td>\n",
       "      <td>191792.06</td>\n",
       "      <td>1</td>\n",
       "      <td>0</td>\n",
       "    </tr>\n",
       "    <tr>\n",
       "      <th>2</th>\n",
       "      <td>153441.51</td>\n",
       "      <td>101145.55</td>\n",
       "      <td>407934.54</td>\n",
       "      <td>191050.39</td>\n",
       "      <td>0</td>\n",
       "      <td>1</td>\n",
       "    </tr>\n",
       "    <tr>\n",
       "      <th>3</th>\n",
       "      <td>144372.41</td>\n",
       "      <td>118671.85</td>\n",
       "      <td>383199.62</td>\n",
       "      <td>182901.99</td>\n",
       "      <td>0</td>\n",
       "      <td>0</td>\n",
       "    </tr>\n",
       "    <tr>\n",
       "      <th>4</th>\n",
       "      <td>142107.34</td>\n",
       "      <td>91391.77</td>\n",
       "      <td>366168.42</td>\n",
       "      <td>166187.94</td>\n",
       "      <td>0</td>\n",
       "      <td>1</td>\n",
       "    </tr>\n",
       "  </tbody>\n",
       "</table>\n",
       "</div>"
      ],
      "text/plain": [
       "   R&D Spend  Administration  Marketing Spend     Profit  StateOf_California  \\\n",
       "0  165349.20       136897.80        471784.10  192261.83                   0   \n",
       "1  162597.70       151377.59        443898.53  191792.06                   1   \n",
       "2  153441.51       101145.55        407934.54  191050.39                   0   \n",
       "3  144372.41       118671.85        383199.62  182901.99                   0   \n",
       "4  142107.34        91391.77        366168.42  166187.94                   0   \n",
       "\n",
       "   StateOf_Florida  \n",
       "0                0  \n",
       "1                0  \n",
       "2                1  \n",
       "3                0  \n",
       "4                1  "
      ]
     },
     "execution_count": 18,
     "metadata": {},
     "output_type": "execute_result"
    }
   ],
   "source": [
    "df.head()"
   ]
  },
  {
   "cell_type": "markdown",
   "id": "static-painting",
   "metadata": {
    "papermill": {
     "duration": 0.063067,
     "end_time": "2021-05-15T15:43:55.525713",
     "exception": false,
     "start_time": "2021-05-15T15:43:55.462646",
     "status": "completed"
    },
    "tags": []
   },
   "source": [
    "* Modelde yer alan nitel vasıflı değişkenlere kukla değişken denir. Kukla değişkenler genel olarak ikil/binom (kadın,erkek) ve çoklu (mezuniyet: ilköğretim, ortaöğretim, lise, lisans, lisansüstü vb) biçimde iki yaklaşımla ölçülür.Binom ölçeklendirmede nitel değişken 1 ve 0 durumunu alır(kadın=1, erkek=0 gibi). Çoklu (polychotomous) ölçeklendirmede ise değişkene ait niteliksel vasıflar uygun ve aralarında anlamsal bir farklılığı yansıtacak bir biçimde sıralanır( ilköğretim =0, ortaöğretim=1, lise=2, lisans=3, lisansüstü=4 gibi).\n",
    "\n",
    "* Modelde eğer nitel bir değişkenin ikili yapıda tanımlarını kullanacak isek, model sağlıklı bir biçimde tahmin edilemez çünkü katsayılardan oluşan matrisinin tersi alınamaz. **Modelin sağlıklı bir biçimde tahmin edilebilmesi için genelde kontrol değişkeni olarak tanımlanan kukla değişkenini modelden düşürmemiz gerekir. Yani sizin araştırmadaki amacınız kadın olma vasfının bağımlı değişken üzerindeki etkisi is tabloda verilen \"cinsiyet\" ve \"erkek\" sütunlarını kullanmamamız gerekir.\n",
    "\n",
    "→ State özniteliğini ve statelerden birini seçip siliyorum.\n"
   ]
  },
  {
   "cell_type": "markdown",
   "id": "unique-punishment",
   "metadata": {
    "papermill": {
     "duration": 0.062951,
     "end_time": "2021-05-15T15:43:55.651964",
     "exception": false,
     "start_time": "2021-05-15T15:43:55.589013",
     "status": "completed"
    },
    "tags": []
   },
   "source": [
    "Veri çerçevemizi bağımlı ve bağımsız değişkenler olmak üzere bölütleyelim."
   ]
  },
  {
   "cell_type": "code",
   "execution_count": 19,
   "id": "average-convergence",
   "metadata": {
    "execution": {
     "iopub.execute_input": "2021-05-15T15:43:55.784207Z",
     "iopub.status.busy": "2021-05-15T15:43:55.783475Z",
     "iopub.status.idle": "2021-05-15T15:43:55.785519Z",
     "shell.execute_reply": "2021-05-15T15:43:55.786058Z"
    },
    "papermill": {
     "duration": 0.071179,
     "end_time": "2021-05-15T15:43:55.786223",
     "exception": false,
     "start_time": "2021-05-15T15:43:55.715044",
     "status": "completed"
    },
    "tags": []
   },
   "outputs": [],
   "source": [
    "X = df.drop(\"Profit\", axis = 1)\n",
    "y = df[\"Profit\"]"
   ]
  },
  {
   "cell_type": "markdown",
   "id": "fifty-determination",
   "metadata": {
    "papermill": {
     "duration": 0.06292,
     "end_time": "2021-05-15T15:43:55.912403",
     "exception": false,
     "start_time": "2021-05-15T15:43:55.849483",
     "status": "completed"
    },
    "tags": []
   },
   "source": [
    "Bağımlı ve bağımsız değişkenleri kontrol edelim."
   ]
  },
  {
   "cell_type": "code",
   "execution_count": 20,
   "id": "everyday-angola",
   "metadata": {
    "execution": {
     "iopub.execute_input": "2021-05-15T15:43:56.042219Z",
     "iopub.status.busy": "2021-05-15T15:43:56.041573Z",
     "iopub.status.idle": "2021-05-15T15:43:56.055670Z",
     "shell.execute_reply": "2021-05-15T15:43:56.056270Z"
    },
    "papermill": {
     "duration": 0.080716,
     "end_time": "2021-05-15T15:43:56.056436",
     "exception": false,
     "start_time": "2021-05-15T15:43:55.975720",
     "status": "completed"
    },
    "tags": []
   },
   "outputs": [
    {
     "data": {
      "text/html": [
       "<div>\n",
       "<style scoped>\n",
       "    .dataframe tbody tr th:only-of-type {\n",
       "        vertical-align: middle;\n",
       "    }\n",
       "\n",
       "    .dataframe tbody tr th {\n",
       "        vertical-align: top;\n",
       "    }\n",
       "\n",
       "    .dataframe thead th {\n",
       "        text-align: right;\n",
       "    }\n",
       "</style>\n",
       "<table border=\"1\" class=\"dataframe\">\n",
       "  <thead>\n",
       "    <tr style=\"text-align: right;\">\n",
       "      <th></th>\n",
       "      <th>R&amp;D Spend</th>\n",
       "      <th>Administration</th>\n",
       "      <th>Marketing Spend</th>\n",
       "      <th>StateOf_California</th>\n",
       "      <th>StateOf_Florida</th>\n",
       "    </tr>\n",
       "  </thead>\n",
       "  <tbody>\n",
       "    <tr>\n",
       "      <th>0</th>\n",
       "      <td>165349.20</td>\n",
       "      <td>136897.80</td>\n",
       "      <td>471784.10</td>\n",
       "      <td>0</td>\n",
       "      <td>0</td>\n",
       "    </tr>\n",
       "    <tr>\n",
       "      <th>1</th>\n",
       "      <td>162597.70</td>\n",
       "      <td>151377.59</td>\n",
       "      <td>443898.53</td>\n",
       "      <td>1</td>\n",
       "      <td>0</td>\n",
       "    </tr>\n",
       "    <tr>\n",
       "      <th>2</th>\n",
       "      <td>153441.51</td>\n",
       "      <td>101145.55</td>\n",
       "      <td>407934.54</td>\n",
       "      <td>0</td>\n",
       "      <td>1</td>\n",
       "    </tr>\n",
       "    <tr>\n",
       "      <th>3</th>\n",
       "      <td>144372.41</td>\n",
       "      <td>118671.85</td>\n",
       "      <td>383199.62</td>\n",
       "      <td>0</td>\n",
       "      <td>0</td>\n",
       "    </tr>\n",
       "    <tr>\n",
       "      <th>4</th>\n",
       "      <td>142107.34</td>\n",
       "      <td>91391.77</td>\n",
       "      <td>366168.42</td>\n",
       "      <td>0</td>\n",
       "      <td>1</td>\n",
       "    </tr>\n",
       "    <tr>\n",
       "      <th>5</th>\n",
       "      <td>131876.90</td>\n",
       "      <td>99814.71</td>\n",
       "      <td>362861.36</td>\n",
       "      <td>0</td>\n",
       "      <td>0</td>\n",
       "    </tr>\n",
       "    <tr>\n",
       "      <th>6</th>\n",
       "      <td>134615.46</td>\n",
       "      <td>147198.87</td>\n",
       "      <td>127716.82</td>\n",
       "      <td>1</td>\n",
       "      <td>0</td>\n",
       "    </tr>\n",
       "    <tr>\n",
       "      <th>7</th>\n",
       "      <td>130298.13</td>\n",
       "      <td>145530.06</td>\n",
       "      <td>323876.68</td>\n",
       "      <td>0</td>\n",
       "      <td>1</td>\n",
       "    </tr>\n",
       "    <tr>\n",
       "      <th>8</th>\n",
       "      <td>120542.52</td>\n",
       "      <td>148718.95</td>\n",
       "      <td>311613.29</td>\n",
       "      <td>0</td>\n",
       "      <td>0</td>\n",
       "    </tr>\n",
       "    <tr>\n",
       "      <th>9</th>\n",
       "      <td>123334.88</td>\n",
       "      <td>108679.17</td>\n",
       "      <td>304981.62</td>\n",
       "      <td>1</td>\n",
       "      <td>0</td>\n",
       "    </tr>\n",
       "  </tbody>\n",
       "</table>\n",
       "</div>"
      ],
      "text/plain": [
       "   R&D Spend  Administration  Marketing Spend  StateOf_California  \\\n",
       "0  165349.20       136897.80        471784.10                   0   \n",
       "1  162597.70       151377.59        443898.53                   1   \n",
       "2  153441.51       101145.55        407934.54                   0   \n",
       "3  144372.41       118671.85        383199.62                   0   \n",
       "4  142107.34        91391.77        366168.42                   0   \n",
       "5  131876.90        99814.71        362861.36                   0   \n",
       "6  134615.46       147198.87        127716.82                   1   \n",
       "7  130298.13       145530.06        323876.68                   0   \n",
       "8  120542.52       148718.95        311613.29                   0   \n",
       "9  123334.88       108679.17        304981.62                   1   \n",
       "\n",
       "   StateOf_Florida  \n",
       "0                0  \n",
       "1                0  \n",
       "2                1  \n",
       "3                0  \n",
       "4                1  \n",
       "5                0  \n",
       "6                0  \n",
       "7                1  \n",
       "8                0  \n",
       "9                0  "
      ]
     },
     "execution_count": 20,
     "metadata": {},
     "output_type": "execute_result"
    }
   ],
   "source": [
    "X.head(10) #bagimsiz değişkenleri görüyorum"
   ]
  },
  {
   "cell_type": "code",
   "execution_count": 21,
   "id": "elect-eligibility",
   "metadata": {
    "execution": {
     "iopub.execute_input": "2021-05-15T15:43:56.187169Z",
     "iopub.status.busy": "2021-05-15T15:43:56.186562Z",
     "iopub.status.idle": "2021-05-15T15:43:56.192928Z",
     "shell.execute_reply": "2021-05-15T15:43:56.193416Z"
    },
    "papermill": {
     "duration": 0.073167,
     "end_time": "2021-05-15T15:43:56.193604",
     "exception": false,
     "start_time": "2021-05-15T15:43:56.120437",
     "status": "completed"
    },
    "tags": []
   },
   "outputs": [
    {
     "data": {
      "text/plain": [
       "0    192261.83\n",
       "1    191792.06\n",
       "2    191050.39\n",
       "3    182901.99\n",
       "4    166187.94\n",
       "5    156991.12\n",
       "6    156122.51\n",
       "7    155752.60\n",
       "8    152211.77\n",
       "9    149759.96\n",
       "Name: Profit, dtype: float64"
      ]
     },
     "execution_count": 21,
     "metadata": {},
     "output_type": "execute_result"
    }
   ],
   "source": [
    "y.head(10) #bağımlı değişken olan profiti görüntülüyorum"
   ]
  },
  {
   "cell_type": "markdown",
   "id": "unauthorized-antique",
   "metadata": {
    "papermill": {
     "duration": 0.064094,
     "end_time": "2021-05-15T15:43:56.322053",
     "exception": false,
     "start_time": "2021-05-15T15:43:56.257959",
     "status": "completed"
    },
    "tags": []
   },
   "source": [
    "→ Profit özniteliği 0 dan 10. gözleme gidildikçe azalmaktadır. Bu bağımsız değişkenlerden kaynaklanıyor.\n",
    "* Lineer regresyon yaptığımızda gözlem sırası karışacak, karışık şekilde öğrenmesini sağlayacağız yani önce karı artıran sonra azaltan değerleri bir arada öğrenmeyecek."
   ]
  },
  {
   "cell_type": "markdown",
   "id": "equipped-spell",
   "metadata": {
    "papermill": {
     "duration": 0.064281,
     "end_time": "2021-05-15T15:43:56.450288",
     "exception": false,
     "start_time": "2021-05-15T15:43:56.386007",
     "status": "completed"
    },
    "tags": []
   },
   "source": [
    "Bu bağımlı ve bağımsız değişkenlerden train ve test olmak üzere 4 parça oluşturalım. Bunu yapmak için train_test_split kullanalım."
   ]
  },
  {
   "cell_type": "code",
   "execution_count": 22,
   "id": "civic-connection",
   "metadata": {
    "execution": {
     "iopub.execute_input": "2021-05-15T15:43:56.588457Z",
     "iopub.status.busy": "2021-05-15T15:43:56.587478Z",
     "iopub.status.idle": "2021-05-15T15:43:56.801750Z",
     "shell.execute_reply": "2021-05-15T15:43:56.802277Z"
    },
    "papermill": {
     "duration": 0.287792,
     "end_time": "2021-05-15T15:43:56.802478",
     "exception": false,
     "start_time": "2021-05-15T15:43:56.514686",
     "status": "completed"
    },
    "tags": []
   },
   "outputs": [],
   "source": [
    "from sklearn.model_selection import train_test_split\n",
    "\n",
    "X_train, X_test, y_train, y_test = train_test_split(X, y, test_size = 0.2, random_state = 0)\n",
    "\n",
    "#Test size'ı %20 , Train(öğrenme) ise %80 olarak kullanıyorum burada öğrenme veri kümesini küçük tutarak sonuçların çok iyi olmasını engelliyorum.\n",
    "#Veri setimizdeki test size 10 veriye, train ise 40 veriye tekabül ediyor.\n",
    "#Random state belirtmek bu noktada önemli belirtilmezse, kodu her çalıştırdığımızda yeni bir rastgele değer oluşturulur.\n",
    "#train ve test veri kümelerinin her seferinde farklı değerleri olur. Python bu data'yı her seferinde farklı yerlerinden böler.\n",
    "#Eğer bir random_state değeri belirlersek her seferinde o değere göre böler. Yani aynı test verileriyle test etmiş oluruz.\n",
    "#Random state kullanarak rassallığı engelleriz."
   ]
  },
  {
   "cell_type": "markdown",
   "id": "median-smoke",
   "metadata": {
    "papermill": {
     "duration": 0.064004,
     "end_time": "2021-05-15T15:43:56.931348",
     "exception": false,
     "start_time": "2021-05-15T15:43:56.867344",
     "status": "completed"
    },
    "tags": []
   },
   "source": [
    "4 parça değişkeni kontrol edelim."
   ]
  },
  {
   "cell_type": "code",
   "execution_count": 23,
   "id": "recognized-conducting",
   "metadata": {
    "execution": {
     "iopub.execute_input": "2021-05-15T15:43:57.064867Z",
     "iopub.status.busy": "2021-05-15T15:43:57.063811Z",
     "iopub.status.idle": "2021-05-15T15:43:57.078914Z",
     "shell.execute_reply": "2021-05-15T15:43:57.079434Z"
    },
    "papermill": {
     "duration": 0.083941,
     "end_time": "2021-05-15T15:43:57.079626",
     "exception": false,
     "start_time": "2021-05-15T15:43:56.995685",
     "status": "completed"
    },
    "tags": []
   },
   "outputs": [
    {
     "data": {
      "text/html": [
       "<div>\n",
       "<style scoped>\n",
       "    .dataframe tbody tr th:only-of-type {\n",
       "        vertical-align: middle;\n",
       "    }\n",
       "\n",
       "    .dataframe tbody tr th {\n",
       "        vertical-align: top;\n",
       "    }\n",
       "\n",
       "    .dataframe thead th {\n",
       "        text-align: right;\n",
       "    }\n",
       "</style>\n",
       "<table border=\"1\" class=\"dataframe\">\n",
       "  <thead>\n",
       "    <tr style=\"text-align: right;\">\n",
       "      <th></th>\n",
       "      <th>R&amp;D Spend</th>\n",
       "      <th>Administration</th>\n",
       "      <th>Marketing Spend</th>\n",
       "      <th>StateOf_California</th>\n",
       "      <th>StateOf_Florida</th>\n",
       "    </tr>\n",
       "  </thead>\n",
       "  <tbody>\n",
       "    <tr>\n",
       "      <th>33</th>\n",
       "      <td>55493.95</td>\n",
       "      <td>103057.49</td>\n",
       "      <td>214634.81</td>\n",
       "      <td>0</td>\n",
       "      <td>1</td>\n",
       "    </tr>\n",
       "    <tr>\n",
       "      <th>35</th>\n",
       "      <td>46014.02</td>\n",
       "      <td>85047.44</td>\n",
       "      <td>205517.64</td>\n",
       "      <td>0</td>\n",
       "      <td>0</td>\n",
       "    </tr>\n",
       "    <tr>\n",
       "      <th>26</th>\n",
       "      <td>75328.87</td>\n",
       "      <td>144135.98</td>\n",
       "      <td>134050.07</td>\n",
       "      <td>0</td>\n",
       "      <td>1</td>\n",
       "    </tr>\n",
       "    <tr>\n",
       "      <th>34</th>\n",
       "      <td>46426.07</td>\n",
       "      <td>157693.92</td>\n",
       "      <td>210797.67</td>\n",
       "      <td>1</td>\n",
       "      <td>0</td>\n",
       "    </tr>\n",
       "    <tr>\n",
       "      <th>18</th>\n",
       "      <td>91749.16</td>\n",
       "      <td>114175.79</td>\n",
       "      <td>294919.57</td>\n",
       "      <td>0</td>\n",
       "      <td>1</td>\n",
       "    </tr>\n",
       "    <tr>\n",
       "      <th>7</th>\n",
       "      <td>130298.13</td>\n",
       "      <td>145530.06</td>\n",
       "      <td>323876.68</td>\n",
       "      <td>0</td>\n",
       "      <td>1</td>\n",
       "    </tr>\n",
       "    <tr>\n",
       "      <th>14</th>\n",
       "      <td>119943.24</td>\n",
       "      <td>156547.42</td>\n",
       "      <td>256512.92</td>\n",
       "      <td>0</td>\n",
       "      <td>1</td>\n",
       "    </tr>\n",
       "    <tr>\n",
       "      <th>45</th>\n",
       "      <td>1000.23</td>\n",
       "      <td>124153.04</td>\n",
       "      <td>1903.93</td>\n",
       "      <td>0</td>\n",
       "      <td>0</td>\n",
       "    </tr>\n",
       "    <tr>\n",
       "      <th>48</th>\n",
       "      <td>542.05</td>\n",
       "      <td>51743.15</td>\n",
       "      <td>0.00</td>\n",
       "      <td>0</td>\n",
       "      <td>0</td>\n",
       "    </tr>\n",
       "    <tr>\n",
       "      <th>29</th>\n",
       "      <td>65605.48</td>\n",
       "      <td>153032.06</td>\n",
       "      <td>107138.38</td>\n",
       "      <td>0</td>\n",
       "      <td>0</td>\n",
       "    </tr>\n",
       "  </tbody>\n",
       "</table>\n",
       "</div>"
      ],
      "text/plain": [
       "    R&D Spend  Administration  Marketing Spend  StateOf_California  \\\n",
       "33   55493.95       103057.49        214634.81                   0   \n",
       "35   46014.02        85047.44        205517.64                   0   \n",
       "26   75328.87       144135.98        134050.07                   0   \n",
       "34   46426.07       157693.92        210797.67                   1   \n",
       "18   91749.16       114175.79        294919.57                   0   \n",
       "7   130298.13       145530.06        323876.68                   0   \n",
       "14  119943.24       156547.42        256512.92                   0   \n",
       "45    1000.23       124153.04          1903.93                   0   \n",
       "48     542.05        51743.15             0.00                   0   \n",
       "29   65605.48       153032.06        107138.38                   0   \n",
       "\n",
       "    StateOf_Florida  \n",
       "33                1  \n",
       "35                0  \n",
       "26                1  \n",
       "34                0  \n",
       "18                1  \n",
       "7                 1  \n",
       "14                1  \n",
       "45                0  \n",
       "48                0  \n",
       "29                0  "
      ]
     },
     "execution_count": 23,
     "metadata": {},
     "output_type": "execute_result"
    }
   ],
   "source": [
    "X_train.head(10)"
   ]
  },
  {
   "cell_type": "code",
   "execution_count": 24,
   "id": "commercial-intellectual",
   "metadata": {
    "execution": {
     "iopub.execute_input": "2021-05-15T15:43:57.214817Z",
     "iopub.status.busy": "2021-05-15T15:43:57.213876Z",
     "iopub.status.idle": "2021-05-15T15:43:57.228636Z",
     "shell.execute_reply": "2021-05-15T15:43:57.228030Z"
    },
    "papermill": {
     "duration": 0.083014,
     "end_time": "2021-05-15T15:43:57.228775",
     "exception": false,
     "start_time": "2021-05-15T15:43:57.145761",
     "status": "completed"
    },
    "tags": []
   },
   "outputs": [
    {
     "data": {
      "text/html": [
       "<div>\n",
       "<style scoped>\n",
       "    .dataframe tbody tr th:only-of-type {\n",
       "        vertical-align: middle;\n",
       "    }\n",
       "\n",
       "    .dataframe tbody tr th {\n",
       "        vertical-align: top;\n",
       "    }\n",
       "\n",
       "    .dataframe thead th {\n",
       "        text-align: right;\n",
       "    }\n",
       "</style>\n",
       "<table border=\"1\" class=\"dataframe\">\n",
       "  <thead>\n",
       "    <tr style=\"text-align: right;\">\n",
       "      <th></th>\n",
       "      <th>R&amp;D Spend</th>\n",
       "      <th>Administration</th>\n",
       "      <th>Marketing Spend</th>\n",
       "      <th>StateOf_California</th>\n",
       "      <th>StateOf_Florida</th>\n",
       "    </tr>\n",
       "  </thead>\n",
       "  <tbody>\n",
       "    <tr>\n",
       "      <th>28</th>\n",
       "      <td>66051.52</td>\n",
       "      <td>182645.56</td>\n",
       "      <td>118148.20</td>\n",
       "      <td>0</td>\n",
       "      <td>1</td>\n",
       "    </tr>\n",
       "    <tr>\n",
       "      <th>11</th>\n",
       "      <td>100671.96</td>\n",
       "      <td>91790.61</td>\n",
       "      <td>249744.55</td>\n",
       "      <td>1</td>\n",
       "      <td>0</td>\n",
       "    </tr>\n",
       "    <tr>\n",
       "      <th>10</th>\n",
       "      <td>101913.08</td>\n",
       "      <td>110594.11</td>\n",
       "      <td>229160.95</td>\n",
       "      <td>0</td>\n",
       "      <td>1</td>\n",
       "    </tr>\n",
       "    <tr>\n",
       "      <th>41</th>\n",
       "      <td>27892.92</td>\n",
       "      <td>84710.77</td>\n",
       "      <td>164470.71</td>\n",
       "      <td>0</td>\n",
       "      <td>1</td>\n",
       "    </tr>\n",
       "    <tr>\n",
       "      <th>2</th>\n",
       "      <td>153441.51</td>\n",
       "      <td>101145.55</td>\n",
       "      <td>407934.54</td>\n",
       "      <td>0</td>\n",
       "      <td>1</td>\n",
       "    </tr>\n",
       "    <tr>\n",
       "      <th>27</th>\n",
       "      <td>72107.60</td>\n",
       "      <td>127864.55</td>\n",
       "      <td>353183.81</td>\n",
       "      <td>0</td>\n",
       "      <td>0</td>\n",
       "    </tr>\n",
       "    <tr>\n",
       "      <th>38</th>\n",
       "      <td>20229.59</td>\n",
       "      <td>65947.93</td>\n",
       "      <td>185265.10</td>\n",
       "      <td>0</td>\n",
       "      <td>0</td>\n",
       "    </tr>\n",
       "    <tr>\n",
       "      <th>31</th>\n",
       "      <td>61136.38</td>\n",
       "      <td>152701.92</td>\n",
       "      <td>88218.23</td>\n",
       "      <td>0</td>\n",
       "      <td>0</td>\n",
       "    </tr>\n",
       "    <tr>\n",
       "      <th>22</th>\n",
       "      <td>73994.56</td>\n",
       "      <td>122782.75</td>\n",
       "      <td>303319.26</td>\n",
       "      <td>0</td>\n",
       "      <td>1</td>\n",
       "    </tr>\n",
       "    <tr>\n",
       "      <th>4</th>\n",
       "      <td>142107.34</td>\n",
       "      <td>91391.77</td>\n",
       "      <td>366168.42</td>\n",
       "      <td>0</td>\n",
       "      <td>1</td>\n",
       "    </tr>\n",
       "  </tbody>\n",
       "</table>\n",
       "</div>"
      ],
      "text/plain": [
       "    R&D Spend  Administration  Marketing Spend  StateOf_California  \\\n",
       "28   66051.52       182645.56        118148.20                   0   \n",
       "11  100671.96        91790.61        249744.55                   1   \n",
       "10  101913.08       110594.11        229160.95                   0   \n",
       "41   27892.92        84710.77        164470.71                   0   \n",
       "2   153441.51       101145.55        407934.54                   0   \n",
       "27   72107.60       127864.55        353183.81                   0   \n",
       "38   20229.59        65947.93        185265.10                   0   \n",
       "31   61136.38       152701.92         88218.23                   0   \n",
       "22   73994.56       122782.75        303319.26                   0   \n",
       "4   142107.34        91391.77        366168.42                   0   \n",
       "\n",
       "    StateOf_Florida  \n",
       "28                1  \n",
       "11                0  \n",
       "10                1  \n",
       "41                1  \n",
       "2                 1  \n",
       "27                0  \n",
       "38                0  \n",
       "31                0  \n",
       "22                1  \n",
       "4                 1  "
      ]
     },
     "execution_count": 24,
     "metadata": {},
     "output_type": "execute_result"
    }
   ],
   "source": [
    "X_test #test olduğundan 10 veri geldi (%20 )"
   ]
  },
  {
   "cell_type": "code",
   "execution_count": 25,
   "id": "closed-tracker",
   "metadata": {
    "execution": {
     "iopub.execute_input": "2021-05-15T15:43:57.368641Z",
     "iopub.status.busy": "2021-05-15T15:43:57.367923Z",
     "iopub.status.idle": "2021-05-15T15:43:57.371176Z",
     "shell.execute_reply": "2021-05-15T15:43:57.371631Z"
    },
    "papermill": {
     "duration": 0.07746,
     "end_time": "2021-05-15T15:43:57.371804",
     "exception": false,
     "start_time": "2021-05-15T15:43:57.294344",
     "status": "completed"
    },
    "tags": []
   },
   "outputs": [
    {
     "data": {
      "text/plain": [
       "33     96778.92\n",
       "35     96479.51\n",
       "26    105733.54\n",
       "34     96712.80\n",
       "18    124266.90\n",
       "7     155752.60\n",
       "14    132602.65\n",
       "45     64926.08\n",
       "48     35673.41\n",
       "29    101004.64\n",
       "Name: Profit, dtype: float64"
      ]
     },
     "execution_count": 25,
     "metadata": {},
     "output_type": "execute_result"
    }
   ],
   "source": [
    "y_train.head(10)"
   ]
  },
  {
   "cell_type": "code",
   "execution_count": 26,
   "id": "caroline-benchmark",
   "metadata": {
    "execution": {
     "iopub.execute_input": "2021-05-15T15:43:57.513523Z",
     "iopub.status.busy": "2021-05-15T15:43:57.512730Z",
     "iopub.status.idle": "2021-05-15T15:43:57.516648Z",
     "shell.execute_reply": "2021-05-15T15:43:57.516153Z"
    },
    "papermill": {
     "duration": 0.076817,
     "end_time": "2021-05-15T15:43:57.516789",
     "exception": false,
     "start_time": "2021-05-15T15:43:57.439972",
     "status": "completed"
    },
    "tags": []
   },
   "outputs": [
    {
     "data": {
      "text/plain": [
       "28    103282.38\n",
       "11    144259.40\n",
       "10    146121.95\n",
       "41     77798.83\n",
       "2     191050.39\n",
       "27    105008.31\n",
       "38     81229.06\n",
       "31     97483.56\n",
       "22    110352.25\n",
       "4     166187.94\n",
       "Name: Profit, dtype: float64"
      ]
     },
     "execution_count": 26,
     "metadata": {},
     "output_type": "execute_result"
    }
   ],
   "source": [
    "y_test #Test olduğu için bu da 10 değer geldi."
   ]
  },
  {
   "cell_type": "markdown",
   "id": "technical-sustainability",
   "metadata": {
    "papermill": {
     "duration": 0.067275,
     "end_time": "2021-05-15T15:43:57.651092",
     "exception": false,
     "start_time": "2021-05-15T15:43:57.583817",
     "status": "completed"
    },
    "tags": []
   },
   "source": [
    "LinearRegression'u çekirdeğe dahil edip modeli inşa edelim."
   ]
  },
  {
   "cell_type": "code",
   "execution_count": 27,
   "id": "stuffed-liver",
   "metadata": {
    "execution": {
     "iopub.execute_input": "2021-05-15T15:43:57.789765Z",
     "iopub.status.busy": "2021-05-15T15:43:57.789153Z",
     "iopub.status.idle": "2021-05-15T15:43:57.892980Z",
     "shell.execute_reply": "2021-05-15T15:43:57.892288Z"
    },
    "papermill": {
     "duration": 0.175137,
     "end_time": "2021-05-15T15:43:57.893121",
     "exception": false,
     "start_time": "2021-05-15T15:43:57.717984",
     "status": "completed"
    },
    "tags": []
   },
   "outputs": [],
   "source": [
    "from sklearn.linear_model import LinearRegression\n",
    "lr = LinearRegression()"
   ]
  },
  {
   "cell_type": "markdown",
   "id": "limiting-beast",
   "metadata": {
    "papermill": {
     "duration": 0.067132,
     "end_time": "2021-05-15T15:43:58.027936",
     "exception": false,
     "start_time": "2021-05-15T15:43:57.960804",
     "status": "completed"
    },
    "tags": []
   },
   "source": [
    "Modeli eğitmek için bağımlı bağımsız değişkenlerden oluşturulan eğitim verilerini verelim."
   ]
  },
  {
   "cell_type": "code",
   "execution_count": 28,
   "id": "laughing-heather",
   "metadata": {
    "execution": {
     "iopub.execute_input": "2021-05-15T15:43:58.186054Z",
     "iopub.status.busy": "2021-05-15T15:43:58.176492Z",
     "iopub.status.idle": "2021-05-15T15:43:58.189028Z",
     "shell.execute_reply": "2021-05-15T15:43:58.188346Z"
    },
    "papermill": {
     "duration": 0.092358,
     "end_time": "2021-05-15T15:43:58.189171",
     "exception": false,
     "start_time": "2021-05-15T15:43:58.096813",
     "status": "completed"
    },
    "tags": []
   },
   "outputs": [],
   "source": [
    "model = lr.fit(X_train, y_train)"
   ]
  },
  {
   "cell_type": "markdown",
   "id": "magnetic-holmes",
   "metadata": {
    "papermill": {
     "duration": 0.06686,
     "end_time": "2021-05-15T15:43:58.323402",
     "exception": false,
     "start_time": "2021-05-15T15:43:58.256542",
     "status": "completed"
    },
    "tags": []
   },
   "source": [
    "Modele daha önce görmediği bağımlı test değişkenini tahmin ettirelim. Bu tahmin değerlerimizi y_pred değişkenine atayalım."
   ]
  },
  {
   "cell_type": "code",
   "execution_count": 29,
   "id": "higher-halloween",
   "metadata": {
    "execution": {
     "iopub.execute_input": "2021-05-15T15:43:58.462398Z",
     "iopub.status.busy": "2021-05-15T15:43:58.461428Z",
     "iopub.status.idle": "2021-05-15T15:43:58.467593Z",
     "shell.execute_reply": "2021-05-15T15:43:58.468135Z"
    },
    "papermill": {
     "duration": 0.077424,
     "end_time": "2021-05-15T15:43:58.468305",
     "exception": false,
     "start_time": "2021-05-15T15:43:58.390881",
     "status": "completed"
    },
    "tags": []
   },
   "outputs": [
    {
     "data": {
      "text/plain": [
       "array([118664.08544275])"
      ]
     },
     "execution_count": 29,
     "metadata": {},
     "output_type": "execute_result"
    }
   ],
   "source": [
    "y_pred = model.predict([[90000, 65000, 100000, 0, 0]])\n",
    "y_pred "
   ]
  },
  {
   "cell_type": "markdown",
   "id": "tutorial-princess",
   "metadata": {
    "papermill": {
     "duration": 0.067409,
     "end_time": "2021-05-15T15:43:58.605018",
     "exception": false,
     "start_time": "2021-05-15T15:43:58.537609",
     "status": "completed"
    },
    "tags": []
   },
   "source": [
    "* 90 bin research and development'a, 65 bin yönetim'e, 100 bin pazarlama'ya harcayan ve New York'lu olan startuplar 118664 dolar kar elde edecektir diye bir çıkarımında bulunabilirim. Burada New Yorku seçtim California = 0 ve Florida = 0 ise New York = 1 dir. Sadece iki değerin durumuna göre üçüncü durumu anlayabiliyoruz."
   ]
  },
  {
   "cell_type": "markdown",
   "id": "popular-worcester",
   "metadata": {
    "papermill": {
     "duration": 0.069968,
     "end_time": "2021-05-15T15:43:58.742862",
     "exception": false,
     "start_time": "2021-05-15T15:43:58.672894",
     "status": "completed"
    },
    "tags": []
   },
   "source": [
    "Tahminleri ve gerçek değerleri bir veri çerçevesinde toplayıp üzerinde göz gezdirelim."
   ]
  },
  {
   "cell_type": "code",
   "execution_count": 30,
   "id": "central-issue",
   "metadata": {
    "execution": {
     "iopub.execute_input": "2021-05-15T15:43:58.896824Z",
     "iopub.status.busy": "2021-05-15T15:43:58.896182Z",
     "iopub.status.idle": "2021-05-15T15:43:58.899916Z",
     "shell.execute_reply": "2021-05-15T15:43:58.900426Z"
    },
    "papermill": {
     "duration": 0.090213,
     "end_time": "2021-05-15T15:43:58.900601",
     "exception": false,
     "start_time": "2021-05-15T15:43:58.810388",
     "status": "completed"
    },
    "tags": []
   },
   "outputs": [
    {
     "data": {
      "text/html": [
       "<div>\n",
       "<style scoped>\n",
       "    .dataframe tbody tr th:only-of-type {\n",
       "        vertical-align: middle;\n",
       "    }\n",
       "\n",
       "    .dataframe tbody tr th {\n",
       "        vertical-align: top;\n",
       "    }\n",
       "\n",
       "    .dataframe thead th {\n",
       "        text-align: right;\n",
       "    }\n",
       "</style>\n",
       "<table border=\"1\" class=\"dataframe\">\n",
       "  <thead>\n",
       "    <tr style=\"text-align: right;\">\n",
       "      <th></th>\n",
       "      <th>R&amp;D Spend</th>\n",
       "      <th>Administration</th>\n",
       "      <th>Marketing Spend</th>\n",
       "      <th>Profit</th>\n",
       "      <th>StateOf_California</th>\n",
       "      <th>StateOf_Florida</th>\n",
       "      <th>kar_tahmin</th>\n",
       "    </tr>\n",
       "  </thead>\n",
       "  <tbody>\n",
       "    <tr>\n",
       "      <th>0</th>\n",
       "      <td>165349.20</td>\n",
       "      <td>136897.80</td>\n",
       "      <td>471784.10</td>\n",
       "      <td>192261.83</td>\n",
       "      <td>0</td>\n",
       "      <td>0</td>\n",
       "      <td>192919.575375</td>\n",
       "    </tr>\n",
       "    <tr>\n",
       "      <th>1</th>\n",
       "      <td>162597.70</td>\n",
       "      <td>151377.59</td>\n",
       "      <td>443898.53</td>\n",
       "      <td>191792.06</td>\n",
       "      <td>1</td>\n",
       "      <td>0</td>\n",
       "      <td>189547.281969</td>\n",
       "    </tr>\n",
       "    <tr>\n",
       "      <th>2</th>\n",
       "      <td>153441.51</td>\n",
       "      <td>101145.55</td>\n",
       "      <td>407934.54</td>\n",
       "      <td>191050.39</td>\n",
       "      <td>0</td>\n",
       "      <td>1</td>\n",
       "      <td>178537.482211</td>\n",
       "    </tr>\n",
       "    <tr>\n",
       "      <th>3</th>\n",
       "      <td>144372.41</td>\n",
       "      <td>118671.85</td>\n",
       "      <td>383199.62</td>\n",
       "      <td>182901.99</td>\n",
       "      <td>0</td>\n",
       "      <td>0</td>\n",
       "      <td>172852.283366</td>\n",
       "    </tr>\n",
       "    <tr>\n",
       "      <th>4</th>\n",
       "      <td>142107.34</td>\n",
       "      <td>91391.77</td>\n",
       "      <td>366168.42</td>\n",
       "      <td>166187.94</td>\n",
       "      <td>0</td>\n",
       "      <td>1</td>\n",
       "      <td>167921.065696</td>\n",
       "    </tr>\n",
       "    <tr>\n",
       "      <th>5</th>\n",
       "      <td>131876.90</td>\n",
       "      <td>99814.71</td>\n",
       "      <td>362861.36</td>\n",
       "      <td>156991.12</td>\n",
       "      <td>0</td>\n",
       "      <td>0</td>\n",
       "      <td>161822.722641</td>\n",
       "    </tr>\n",
       "    <tr>\n",
       "      <th>6</th>\n",
       "      <td>134615.46</td>\n",
       "      <td>147198.87</td>\n",
       "      <td>127716.82</td>\n",
       "      <td>156122.51</td>\n",
       "      <td>1</td>\n",
       "      <td>0</td>\n",
       "      <td>156191.101244</td>\n",
       "    </tr>\n",
       "    <tr>\n",
       "      <th>7</th>\n",
       "      <td>130298.13</td>\n",
       "      <td>145530.06</td>\n",
       "      <td>323876.68</td>\n",
       "      <td>155752.60</td>\n",
       "      <td>0</td>\n",
       "      <td>1</td>\n",
       "      <td>159019.043371</td>\n",
       "    </tr>\n",
       "    <tr>\n",
       "      <th>8</th>\n",
       "      <td>120542.52</td>\n",
       "      <td>148718.95</td>\n",
       "      <td>311613.29</td>\n",
       "      <td>152211.77</td>\n",
       "      <td>0</td>\n",
       "      <td>0</td>\n",
       "      <td>152787.954643</td>\n",
       "    </tr>\n",
       "    <tr>\n",
       "      <th>9</th>\n",
       "      <td>123334.88</td>\n",
       "      <td>108679.17</td>\n",
       "      <td>304981.62</td>\n",
       "      <td>149759.96</td>\n",
       "      <td>1</td>\n",
       "      <td>0</td>\n",
       "      <td>152688.906780</td>\n",
       "    </tr>\n",
       "  </tbody>\n",
       "</table>\n",
       "</div>"
      ],
      "text/plain": [
       "   R&D Spend  Administration  Marketing Spend     Profit  StateOf_California  \\\n",
       "0  165349.20       136897.80        471784.10  192261.83                   0   \n",
       "1  162597.70       151377.59        443898.53  191792.06                   1   \n",
       "2  153441.51       101145.55        407934.54  191050.39                   0   \n",
       "3  144372.41       118671.85        383199.62  182901.99                   0   \n",
       "4  142107.34        91391.77        366168.42  166187.94                   0   \n",
       "5  131876.90        99814.71        362861.36  156991.12                   0   \n",
       "6  134615.46       147198.87        127716.82  156122.51                   1   \n",
       "7  130298.13       145530.06        323876.68  155752.60                   0   \n",
       "8  120542.52       148718.95        311613.29  152211.77                   0   \n",
       "9  123334.88       108679.17        304981.62  149759.96                   1   \n",
       "\n",
       "   StateOf_Florida     kar_tahmin  \n",
       "0                0  192919.575375  \n",
       "1                0  189547.281969  \n",
       "2                1  178537.482211  \n",
       "3                0  172852.283366  \n",
       "4                1  167921.065696  \n",
       "5                0  161822.722641  \n",
       "6                0  156191.101244  \n",
       "7                1  159019.043371  \n",
       "8                0  152787.954643  \n",
       "9                0  152688.906780  "
      ]
     },
     "execution_count": 30,
     "metadata": {},
     "output_type": "execute_result"
    }
   ],
   "source": [
    "df[\"kar_tahmin\"] = model.predict(X)\n",
    "df.head(10)"
   ]
  },
  {
   "cell_type": "markdown",
   "id": "brown-questionnaire",
   "metadata": {
    "papermill": {
     "duration": 0.067908,
     "end_time": "2021-05-15T15:43:59.036988",
     "exception": false,
     "start_time": "2021-05-15T15:43:58.969080",
     "status": "completed"
    },
    "tags": []
   },
   "source": [
    "sklearn bünyesinde barınan metrics'i çekirdeğe dahil edelim ve MAE, MSE, RMSE değerlerini görüntüleyelim."
   ]
  },
  {
   "cell_type": "code",
   "execution_count": 31,
   "id": "infrared-practice",
   "metadata": {
    "execution": {
     "iopub.execute_input": "2021-05-15T15:43:59.178533Z",
     "iopub.status.busy": "2021-05-15T15:43:59.177872Z",
     "iopub.status.idle": "2021-05-15T15:43:59.184963Z",
     "shell.execute_reply": "2021-05-15T15:43:59.185487Z"
    },
    "papermill": {
     "duration": 0.07915,
     "end_time": "2021-05-15T15:43:59.185663",
     "exception": false,
     "start_time": "2021-05-15T15:43:59.106513",
     "status": "completed"
    },
    "tags": []
   },
   "outputs": [
    {
     "name": "stdout",
     "output_type": "stream",
     "text": [
      "Hata Mutlak Ortalama Degeri(MAE): 6576.087338384479\n"
     ]
    }
   ],
   "source": [
    "from sklearn.metrics import mean_absolute_error\n",
    "MAE = mean_absolute_error(df[\"Profit\"], df[\"kar_tahmin\"])\n",
    "print(\"Hata Mutlak Ortalama Degeri(MAE):\", MAE) "
   ]
  },
  {
   "cell_type": "code",
   "execution_count": 32,
   "id": "passive-earthquake",
   "metadata": {
    "execution": {
     "iopub.execute_input": "2021-05-15T15:43:59.330514Z",
     "iopub.status.busy": "2021-05-15T15:43:59.329653Z",
     "iopub.status.idle": "2021-05-15T15:43:59.333214Z",
     "shell.execute_reply": "2021-05-15T15:43:59.333693Z"
    },
    "papermill": {
     "duration": 0.078889,
     "end_time": "2021-05-15T15:43:59.333875",
     "exception": false,
     "start_time": "2021-05-15T15:43:59.254986",
     "status": "completed"
    },
    "tags": []
   },
   "outputs": [
    {
     "name": "stdout",
     "output_type": "stream",
     "text": [
      "Hata Kareler Ortalaması Degeri(MSE): 81957374.24681288\n"
     ]
    }
   ],
   "source": [
    "from sklearn.metrics import mean_squared_error\n",
    "MSE = mean_squared_error(df[\"Profit\"], df[\"kar_tahmin\"])\n",
    "print(\"Hata Kareler Ortalaması Degeri(MSE):\", MSE)  "
   ]
  },
  {
   "cell_type": "code",
   "execution_count": 33,
   "id": "everyday-accident",
   "metadata": {
    "execution": {
     "iopub.execute_input": "2021-05-15T15:43:59.479372Z",
     "iopub.status.busy": "2021-05-15T15:43:59.478485Z",
     "iopub.status.idle": "2021-05-15T15:43:59.481984Z",
     "shell.execute_reply": "2021-05-15T15:43:59.482681Z"
    },
    "papermill": {
     "duration": 0.078749,
     "end_time": "2021-05-15T15:43:59.482927",
     "exception": false,
     "start_time": "2021-05-15T15:43:59.404178",
     "status": "completed"
    },
    "tags": []
   },
   "outputs": [
    {
     "name": "stdout",
     "output_type": "stream",
     "text": [
      "Hata Kareler Ortalamasının Karekök Degeri(RMSE): 9053.031218703098\n"
     ]
    }
   ],
   "source": [
    "import math\n",
    "RMSE = math.sqrt(MSE)\n",
    "print(\"Hata Kareler Ortalamasının Karekök Degeri(RMSE):\", RMSE) "
   ]
  },
  {
   "cell_type": "markdown",
   "id": "genuine-maple",
   "metadata": {
    "papermill": {
     "duration": 0.084382,
     "end_time": "2021-05-15T15:43:59.642562",
     "exception": false,
     "start_time": "2021-05-15T15:43:59.558180",
     "status": "completed"
    },
    "tags": []
   },
   "source": [
    "Modelin R Squared değerini eğitim verileri üzerinden yazdıralım."
   ]
  },
  {
   "cell_type": "code",
   "execution_count": 34,
   "id": "finite-pillow",
   "metadata": {
    "execution": {
     "iopub.execute_input": "2021-05-15T15:43:59.786289Z",
     "iopub.status.busy": "2021-05-15T15:43:59.785320Z",
     "iopub.status.idle": "2021-05-15T15:43:59.794288Z",
     "shell.execute_reply": "2021-05-15T15:43:59.794979Z"
    },
    "papermill": {
     "duration": 0.082619,
     "end_time": "2021-05-15T15:43:59.795219",
     "exception": false,
     "start_time": "2021-05-15T15:43:59.712600",
     "status": "completed"
    },
    "tags": []
   },
   "outputs": [
    {
     "name": "stdout",
     "output_type": "stream",
     "text": [
      "R Squared: 0.9501847627493607\n"
     ]
    }
   ],
   "source": [
    "print(\"R Squared:\", model.score(X_train,y_train))"
   ]
  },
  {
   "cell_type": "markdown",
   "id": "canadian-partition",
   "metadata": {
    "papermill": {
     "duration": 0.070319,
     "end_time": "2021-05-15T15:43:59.936262",
     "exception": false,
     "start_time": "2021-05-15T15:43:59.865943",
     "status": "completed"
    },
    "tags": []
   },
   "source": [
    "* R Squared değeri modeldeki bağımsız değişkenlerin bağımlı değişkenleri ifade etmesidir. bu değer 1'e ne kadar yakınsa o kadar iyidir bizim modelimide bu 0.95018 çıktı 1'e yakın bir değer gayet iyi diyebiliriz."
   ]
  },
  {
   "cell_type": "markdown",
   "id": "solar-sound",
   "metadata": {
    "papermill": {
     "duration": 0.070326,
     "end_time": "2021-05-15T15:44:00.076908",
     "exception": false,
     "start_time": "2021-05-15T15:44:00.006582",
     "status": "completed"
    },
    "tags": []
   },
   "source": [
    "Dileyenler statsmodel kullanarak hangi özniteliklerin model için %95 güvenilirlikle ne kadar anlamlı olup olmadığına da bakabilir. Modelde bazı feature selection işlemleri yaparak tekrardan eğitip yeni sonuçlar mukayese edilebilir."
   ]
  },
  {
   "cell_type": "code",
   "execution_count": 35,
   "id": "difficult-territory",
   "metadata": {
    "execution": {
     "iopub.execute_input": "2021-05-15T15:44:00.223195Z",
     "iopub.status.busy": "2021-05-15T15:44:00.222222Z",
     "iopub.status.idle": "2021-05-15T15:44:00.999642Z",
     "shell.execute_reply": "2021-05-15T15:44:00.999102Z"
    },
    "papermill": {
     "duration": 0.851149,
     "end_time": "2021-05-15T15:44:00.999789",
     "exception": false,
     "start_time": "2021-05-15T15:44:00.148640",
     "status": "completed"
    },
    "tags": []
   },
   "outputs": [],
   "source": [
    "import statsmodels.api as sm\n",
    "stmodel = sm.OLS(y, X).fit()"
   ]
  },
  {
   "cell_type": "markdown",
   "id": "bibliographic-intersection",
   "metadata": {
    "papermill": {
     "duration": 0.072358,
     "end_time": "2021-05-15T15:44:01.143916",
     "exception": false,
     "start_time": "2021-05-15T15:44:01.071558",
     "status": "completed"
    },
    "tags": []
   },
   "source": [
    "**OLS(Sıradan En Küçük Kareler Yöntemi)** doğrusal regresyon modeli kurulurken verilerin ortasından geçen eğime (çizgiye) en az kare farkı ile yaklaşmaya çalışan bir yöntemdir."
   ]
  },
  {
   "cell_type": "code",
   "execution_count": 36,
   "id": "obvious-satellite",
   "metadata": {
    "execution": {
     "iopub.execute_input": "2021-05-15T15:44:01.305796Z",
     "iopub.status.busy": "2021-05-15T15:44:01.301453Z",
     "iopub.status.idle": "2021-05-15T15:44:01.310546Z",
     "shell.execute_reply": "2021-05-15T15:44:01.309907Z"
    },
    "papermill": {
     "duration": 0.095879,
     "end_time": "2021-05-15T15:44:01.310683",
     "exception": false,
     "start_time": "2021-05-15T15:44:01.214804",
     "status": "completed"
    },
    "tags": []
   },
   "outputs": [
    {
     "data": {
      "text/html": [
       "<table class=\"simpletable\">\n",
       "<caption>OLS Regression Results</caption>\n",
       "<tr>\n",
       "  <th>Dep. Variable:</th>         <td>Profit</td>      <th>  R-squared (uncentered):</th>      <td>   0.988</td>\n",
       "</tr>\n",
       "<tr>\n",
       "  <th>Model:</th>                   <td>OLS</td>       <th>  Adj. R-squared (uncentered):</th> <td>   0.987</td>\n",
       "</tr>\n",
       "<tr>\n",
       "  <th>Method:</th>             <td>Least Squares</td>  <th>  F-statistic:       </th>          <td>   735.7</td>\n",
       "</tr>\n",
       "<tr>\n",
       "  <th>Date:</th>             <td>Sat, 15 May 2021</td> <th>  Prob (F-statistic):</th>          <td>6.07e-42</td>\n",
       "</tr>\n",
       "<tr>\n",
       "  <th>Time:</th>                 <td>15:44:01</td>     <th>  Log-Likelihood:    </th>          <td> -544.86</td>\n",
       "</tr>\n",
       "<tr>\n",
       "  <th>No. Observations:</th>      <td>    50</td>      <th>  AIC:               </th>          <td>   1100.</td>\n",
       "</tr>\n",
       "<tr>\n",
       "  <th>Df Residuals:</th>          <td>    45</td>      <th>  BIC:               </th>          <td>   1109.</td>\n",
       "</tr>\n",
       "<tr>\n",
       "  <th>Df Model:</th>              <td>     5</td>      <th>                     </th>              <td> </td>   \n",
       "</tr>\n",
       "<tr>\n",
       "  <th>Covariance Type:</th>      <td>nonrobust</td>    <th>                     </th>              <td> </td>   \n",
       "</tr>\n",
       "</table>\n",
       "<table class=\"simpletable\">\n",
       "<tr>\n",
       "           <td></td>             <th>coef</th>     <th>std err</th>      <th>t</th>      <th>P>|t|</th>  <th>[0.025</th>    <th>0.975]</th>  \n",
       "</tr>\n",
       "<tr>\n",
       "  <th>R&D Spend</th>          <td>    0.7308</td> <td>    0.066</td> <td>   11.072</td> <td> 0.000</td> <td>    0.598</td> <td>    0.864</td>\n",
       "</tr>\n",
       "<tr>\n",
       "  <th>Administration</th>     <td>    0.3021</td> <td>    0.037</td> <td>    8.174</td> <td> 0.000</td> <td>    0.228</td> <td>    0.377</td>\n",
       "</tr>\n",
       "<tr>\n",
       "  <th>Marketing Spend</th>    <td>    0.0776</td> <td>    0.023</td> <td>    3.397</td> <td> 0.001</td> <td>    0.032</td> <td>    0.124</td>\n",
       "</tr>\n",
       "<tr>\n",
       "  <th>StateOf_California</th> <td> 6019.9282</td> <td> 4596.090</td> <td>    1.310</td> <td> 0.197</td> <td>-3237.072</td> <td> 1.53e+04</td>\n",
       "</tr>\n",
       "<tr>\n",
       "  <th>StateOf_Florida</th>    <td> 3814.3461</td> <td> 4819.854</td> <td>    0.791</td> <td> 0.433</td> <td>-5893.338</td> <td> 1.35e+04</td>\n",
       "</tr>\n",
       "</table>\n",
       "<table class=\"simpletable\">\n",
       "<tr>\n",
       "  <th>Omnibus:</th>       <td> 0.012</td> <th>  Durbin-Watson:     </th> <td>   1.533</td>\n",
       "</tr>\n",
       "<tr>\n",
       "  <th>Prob(Omnibus):</th> <td> 0.994</td> <th>  Jarque-Bera (JB):  </th> <td>   0.071</td>\n",
       "</tr>\n",
       "<tr>\n",
       "  <th>Skew:</th>          <td>-0.015</td> <th>  Prob(JB):          </th> <td>   0.965</td>\n",
       "</tr>\n",
       "<tr>\n",
       "  <th>Kurtosis:</th>      <td> 2.817</td> <th>  Cond. No.          </th> <td>8.14e+05</td>\n",
       "</tr>\n",
       "</table><br/><br/>Notes:<br/>[1] R² is computed without centering (uncentered) since the model does not contain a constant.<br/>[2] Standard Errors assume that the covariance matrix of the errors is correctly specified.<br/>[3] The condition number is large, 8.14e+05. This might indicate that there are<br/>strong multicollinearity or other numerical problems."
      ],
      "text/plain": [
       "<class 'statsmodels.iolib.summary.Summary'>\n",
       "\"\"\"\n",
       "                                 OLS Regression Results                                \n",
       "=======================================================================================\n",
       "Dep. Variable:                 Profit   R-squared (uncentered):                   0.988\n",
       "Model:                            OLS   Adj. R-squared (uncentered):              0.987\n",
       "Method:                 Least Squares   F-statistic:                              735.7\n",
       "Date:                Sat, 15 May 2021   Prob (F-statistic):                    6.07e-42\n",
       "Time:                        15:44:01   Log-Likelihood:                         -544.86\n",
       "No. Observations:                  50   AIC:                                      1100.\n",
       "Df Residuals:                      45   BIC:                                      1109.\n",
       "Df Model:                           5                                                  \n",
       "Covariance Type:            nonrobust                                                  \n",
       "======================================================================================\n",
       "                         coef    std err          t      P>|t|      [0.025      0.975]\n",
       "--------------------------------------------------------------------------------------\n",
       "R&D Spend              0.7308      0.066     11.072      0.000       0.598       0.864\n",
       "Administration         0.3021      0.037      8.174      0.000       0.228       0.377\n",
       "Marketing Spend        0.0776      0.023      3.397      0.001       0.032       0.124\n",
       "StateOf_California  6019.9282   4596.090      1.310      0.197   -3237.072    1.53e+04\n",
       "StateOf_Florida     3814.3461   4819.854      0.791      0.433   -5893.338    1.35e+04\n",
       "==============================================================================\n",
       "Omnibus:                        0.012   Durbin-Watson:                   1.533\n",
       "Prob(Omnibus):                  0.994   Jarque-Bera (JB):                0.071\n",
       "Skew:                          -0.015   Prob(JB):                        0.965\n",
       "Kurtosis:                       2.817   Cond. No.                     8.14e+05\n",
       "==============================================================================\n",
       "\n",
       "Notes:\n",
       "[1] R² is computed without centering (uncentered) since the model does not contain a constant.\n",
       "[2] Standard Errors assume that the covariance matrix of the errors is correctly specified.\n",
       "[3] The condition number is large, 8.14e+05. This might indicate that there are\n",
       "strong multicollinearity or other numerical problems.\n",
       "\"\"\""
      ]
     },
     "execution_count": 36,
     "metadata": {},
     "output_type": "execute_result"
    }
   ],
   "source": [
    "stmodel.summary()"
   ]
  },
  {
   "cell_type": "markdown",
   "id": "baking-regard",
   "metadata": {
    "papermill": {
     "duration": 0.070909,
     "end_time": "2021-05-15T15:44:01.453516",
     "exception": false,
     "start_time": "2021-05-15T15:44:01.382607",
     "status": "completed"
    },
    "tags": []
   },
   "source": [
    "***R^2 ifadesi:*** Bağımsız değişkenlerin bağımlı değişkendeki değişikliği açıklama yüzdesidir.\n",
    "* 0.988 oldukça yüksek bir rakam. R^2 ne kadar değişken eklenirse o kadar şişmektedir. Şişmenin önüne geçmek için düzeltilmiş R^2 değeri ortaya çıkar. Daha sağlıklı bir açıklanabilirlik oranı vermektedir.\n",
    "***F-statistic:*** Modelin anlamlılığını test etmek için kullanılan istatistiktir.\n",
    "***Prob(F- statistic:*** Modelin anlamlı olup olmadığını anlamak için kullanılır.\n",
    "* Prob(F- statistic 0.05 den oldukça küçük bir değere sahip. Bu yüzden modelin anlamlı olduğunu söyleyebiliriz. \n",
    "***coef:*** Bağımsız değişkenlerin katsayılarını ifade eder. (b1, b2, b3 katsayılarını ifade ediyor.) \n",
    "***std err:** Bağımsız değişkenlerin standart hata değeridir. Ne kadar küçükse, doğruluk seviyesi o kadar büyük olur.\n",
    "***t istatistiği*** anlamlılığı ifade eder. \n",
    "***P>t modellemek için kullandığımız bütün değişkenler anlamlıdır.**\n",
    "* 0.05 ten küçük değerler elde ettiğimiz sürece anlamlı değişkenler olur. "
   ]
  },
  {
   "cell_type": "markdown",
   "id": "eight-dance",
   "metadata": {
    "papermill": {
     "duration": 0.071654,
     "end_time": "2021-05-15T15:44:01.597095",
     "exception": false,
     "start_time": "2021-05-15T15:44:01.525441",
     "status": "completed"
    },
    "tags": []
   },
   "source": [
    "* Burada önemli bir nokta ise State özniteliklerine baktığımızda P değerinin 0.05'ten büyük değerleri olduğunu görüyoruz. Bu model için iyi bir şey değil. Bnları sileceğim buna ek oalrak kar tahminini de sileceğim ki eski değerlerle işlem yapıp aynı sonuçları bulmayayım."
   ]
  },
  {
   "cell_type": "code",
   "execution_count": 37,
   "id": "ranking-palestine",
   "metadata": {
    "execution": {
     "iopub.execute_input": "2021-05-15T15:44:01.756212Z",
     "iopub.status.busy": "2021-05-15T15:44:01.755481Z",
     "iopub.status.idle": "2021-05-15T15:44:01.758410Z",
     "shell.execute_reply": "2021-05-15T15:44:01.758880Z"
    },
    "papermill": {
     "duration": 0.090102,
     "end_time": "2021-05-15T15:44:01.759131",
     "exception": false,
     "start_time": "2021-05-15T15:44:01.669029",
     "status": "completed"
    },
    "tags": []
   },
   "outputs": [
    {
     "data": {
      "text/html": [
       "<div>\n",
       "<style scoped>\n",
       "    .dataframe tbody tr th:only-of-type {\n",
       "        vertical-align: middle;\n",
       "    }\n",
       "\n",
       "    .dataframe tbody tr th {\n",
       "        vertical-align: top;\n",
       "    }\n",
       "\n",
       "    .dataframe thead th {\n",
       "        text-align: right;\n",
       "    }\n",
       "</style>\n",
       "<table border=\"1\" class=\"dataframe\">\n",
       "  <thead>\n",
       "    <tr style=\"text-align: right;\">\n",
       "      <th></th>\n",
       "      <th>R&amp;D Spend</th>\n",
       "      <th>Administration</th>\n",
       "      <th>Marketing Spend</th>\n",
       "      <th>Profit</th>\n",
       "      <th>StateOf_California</th>\n",
       "      <th>StateOf_Florida</th>\n",
       "      <th>kar_tahmin</th>\n",
       "    </tr>\n",
       "  </thead>\n",
       "  <tbody>\n",
       "    <tr>\n",
       "      <th>0</th>\n",
       "      <td>165349.20</td>\n",
       "      <td>136897.80</td>\n",
       "      <td>471784.10</td>\n",
       "      <td>192261.83</td>\n",
       "      <td>0</td>\n",
       "      <td>0</td>\n",
       "      <td>192919.575375</td>\n",
       "    </tr>\n",
       "    <tr>\n",
       "      <th>1</th>\n",
       "      <td>162597.70</td>\n",
       "      <td>151377.59</td>\n",
       "      <td>443898.53</td>\n",
       "      <td>191792.06</td>\n",
       "      <td>1</td>\n",
       "      <td>0</td>\n",
       "      <td>189547.281969</td>\n",
       "    </tr>\n",
       "    <tr>\n",
       "      <th>2</th>\n",
       "      <td>153441.51</td>\n",
       "      <td>101145.55</td>\n",
       "      <td>407934.54</td>\n",
       "      <td>191050.39</td>\n",
       "      <td>0</td>\n",
       "      <td>1</td>\n",
       "      <td>178537.482211</td>\n",
       "    </tr>\n",
       "    <tr>\n",
       "      <th>3</th>\n",
       "      <td>144372.41</td>\n",
       "      <td>118671.85</td>\n",
       "      <td>383199.62</td>\n",
       "      <td>182901.99</td>\n",
       "      <td>0</td>\n",
       "      <td>0</td>\n",
       "      <td>172852.283366</td>\n",
       "    </tr>\n",
       "    <tr>\n",
       "      <th>4</th>\n",
       "      <td>142107.34</td>\n",
       "      <td>91391.77</td>\n",
       "      <td>366168.42</td>\n",
       "      <td>166187.94</td>\n",
       "      <td>0</td>\n",
       "      <td>1</td>\n",
       "      <td>167921.065696</td>\n",
       "    </tr>\n",
       "  </tbody>\n",
       "</table>\n",
       "</div>"
      ],
      "text/plain": [
       "   R&D Spend  Administration  Marketing Spend     Profit  StateOf_California  \\\n",
       "0  165349.20       136897.80        471784.10  192261.83                   0   \n",
       "1  162597.70       151377.59        443898.53  191792.06                   1   \n",
       "2  153441.51       101145.55        407934.54  191050.39                   0   \n",
       "3  144372.41       118671.85        383199.62  182901.99                   0   \n",
       "4  142107.34        91391.77        366168.42  166187.94                   0   \n",
       "\n",
       "   StateOf_Florida     kar_tahmin  \n",
       "0                0  192919.575375  \n",
       "1                0  189547.281969  \n",
       "2                1  178537.482211  \n",
       "3                0  172852.283366  \n",
       "4                1  167921.065696  "
      ]
     },
     "execution_count": 37,
     "metadata": {},
     "output_type": "execute_result"
    }
   ],
   "source": [
    "df.head()"
   ]
  },
  {
   "cell_type": "code",
   "execution_count": 38,
   "id": "incomplete-focus",
   "metadata": {
    "execution": {
     "iopub.execute_input": "2021-05-15T15:44:01.907962Z",
     "iopub.status.busy": "2021-05-15T15:44:01.907254Z",
     "iopub.status.idle": "2021-05-15T15:44:01.913364Z",
     "shell.execute_reply": "2021-05-15T15:44:01.912616Z"
    },
    "papermill": {
     "duration": 0.081927,
     "end_time": "2021-05-15T15:44:01.913531",
     "exception": false,
     "start_time": "2021-05-15T15:44:01.831604",
     "status": "completed"
    },
    "tags": []
   },
   "outputs": [],
   "source": [
    "df.drop([\"StateOf_California\", \"StateOf_Florida\", \"kar_tahmin\"], axis = 1, inplace = True)"
   ]
  },
  {
   "cell_type": "code",
   "execution_count": 39,
   "id": "pediatric-drive",
   "metadata": {
    "execution": {
     "iopub.execute_input": "2021-05-15T15:44:02.070853Z",
     "iopub.status.busy": "2021-05-15T15:44:02.069740Z",
     "iopub.status.idle": "2021-05-15T15:44:02.074022Z",
     "shell.execute_reply": "2021-05-15T15:44:02.074546Z"
    },
    "papermill": {
     "duration": 0.088247,
     "end_time": "2021-05-15T15:44:02.074722",
     "exception": false,
     "start_time": "2021-05-15T15:44:01.986475",
     "status": "completed"
    },
    "tags": []
   },
   "outputs": [
    {
     "data": {
      "text/html": [
       "<div>\n",
       "<style scoped>\n",
       "    .dataframe tbody tr th:only-of-type {\n",
       "        vertical-align: middle;\n",
       "    }\n",
       "\n",
       "    .dataframe tbody tr th {\n",
       "        vertical-align: top;\n",
       "    }\n",
       "\n",
       "    .dataframe thead th {\n",
       "        text-align: right;\n",
       "    }\n",
       "</style>\n",
       "<table border=\"1\" class=\"dataframe\">\n",
       "  <thead>\n",
       "    <tr style=\"text-align: right;\">\n",
       "      <th></th>\n",
       "      <th>R&amp;D Spend</th>\n",
       "      <th>Administration</th>\n",
       "      <th>Marketing Spend</th>\n",
       "      <th>Profit</th>\n",
       "    </tr>\n",
       "  </thead>\n",
       "  <tbody>\n",
       "    <tr>\n",
       "      <th>0</th>\n",
       "      <td>165349.20</td>\n",
       "      <td>136897.80</td>\n",
       "      <td>471784.10</td>\n",
       "      <td>192261.83</td>\n",
       "    </tr>\n",
       "    <tr>\n",
       "      <th>1</th>\n",
       "      <td>162597.70</td>\n",
       "      <td>151377.59</td>\n",
       "      <td>443898.53</td>\n",
       "      <td>191792.06</td>\n",
       "    </tr>\n",
       "    <tr>\n",
       "      <th>2</th>\n",
       "      <td>153441.51</td>\n",
       "      <td>101145.55</td>\n",
       "      <td>407934.54</td>\n",
       "      <td>191050.39</td>\n",
       "    </tr>\n",
       "    <tr>\n",
       "      <th>3</th>\n",
       "      <td>144372.41</td>\n",
       "      <td>118671.85</td>\n",
       "      <td>383199.62</td>\n",
       "      <td>182901.99</td>\n",
       "    </tr>\n",
       "    <tr>\n",
       "      <th>4</th>\n",
       "      <td>142107.34</td>\n",
       "      <td>91391.77</td>\n",
       "      <td>366168.42</td>\n",
       "      <td>166187.94</td>\n",
       "    </tr>\n",
       "  </tbody>\n",
       "</table>\n",
       "</div>"
      ],
      "text/plain": [
       "   R&D Spend  Administration  Marketing Spend     Profit\n",
       "0  165349.20       136897.80        471784.10  192261.83\n",
       "1  162597.70       151377.59        443898.53  191792.06\n",
       "2  153441.51       101145.55        407934.54  191050.39\n",
       "3  144372.41       118671.85        383199.62  182901.99\n",
       "4  142107.34        91391.77        366168.42  166187.94"
      ]
     },
     "execution_count": 39,
     "metadata": {},
     "output_type": "execute_result"
    }
   ],
   "source": [
    "df.head()"
   ]
  },
  {
   "cell_type": "code",
   "execution_count": 40,
   "id": "literary-cleaners",
   "metadata": {
    "execution": {
     "iopub.execute_input": "2021-05-15T15:44:02.234741Z",
     "iopub.status.busy": "2021-05-15T15:44:02.233768Z",
     "iopub.status.idle": "2021-05-15T15:44:02.238393Z",
     "shell.execute_reply": "2021-05-15T15:44:02.237779Z"
    },
    "papermill": {
     "duration": 0.089865,
     "end_time": "2021-05-15T15:44:02.238538",
     "exception": false,
     "start_time": "2021-05-15T15:44:02.148673",
     "status": "completed"
    },
    "tags": []
   },
   "outputs": [
    {
     "data": {
      "text/html": [
       "<div>\n",
       "<style scoped>\n",
       "    .dataframe tbody tr th:only-of-type {\n",
       "        vertical-align: middle;\n",
       "    }\n",
       "\n",
       "    .dataframe tbody tr th {\n",
       "        vertical-align: top;\n",
       "    }\n",
       "\n",
       "    .dataframe thead th {\n",
       "        text-align: right;\n",
       "    }\n",
       "</style>\n",
       "<table border=\"1\" class=\"dataframe\">\n",
       "  <thead>\n",
       "    <tr style=\"text-align: right;\">\n",
       "      <th></th>\n",
       "      <th>R&amp;D Spend</th>\n",
       "      <th>Administration</th>\n",
       "      <th>Marketing Spend</th>\n",
       "    </tr>\n",
       "  </thead>\n",
       "  <tbody>\n",
       "    <tr>\n",
       "      <th>0</th>\n",
       "      <td>165349.20</td>\n",
       "      <td>136897.80</td>\n",
       "      <td>471784.10</td>\n",
       "    </tr>\n",
       "    <tr>\n",
       "      <th>1</th>\n",
       "      <td>162597.70</td>\n",
       "      <td>151377.59</td>\n",
       "      <td>443898.53</td>\n",
       "    </tr>\n",
       "    <tr>\n",
       "      <th>2</th>\n",
       "      <td>153441.51</td>\n",
       "      <td>101145.55</td>\n",
       "      <td>407934.54</td>\n",
       "    </tr>\n",
       "    <tr>\n",
       "      <th>3</th>\n",
       "      <td>144372.41</td>\n",
       "      <td>118671.85</td>\n",
       "      <td>383199.62</td>\n",
       "    </tr>\n",
       "    <tr>\n",
       "      <th>4</th>\n",
       "      <td>142107.34</td>\n",
       "      <td>91391.77</td>\n",
       "      <td>366168.42</td>\n",
       "    </tr>\n",
       "  </tbody>\n",
       "</table>\n",
       "</div>"
      ],
      "text/plain": [
       "   R&D Spend  Administration  Marketing Spend\n",
       "0  165349.20       136897.80        471784.10\n",
       "1  162597.70       151377.59        443898.53\n",
       "2  153441.51       101145.55        407934.54\n",
       "3  144372.41       118671.85        383199.62\n",
       "4  142107.34        91391.77        366168.42"
      ]
     },
     "execution_count": 40,
     "metadata": {},
     "output_type": "execute_result"
    }
   ],
   "source": [
    "X1 = df.drop(\"Profit\", axis = 1)\n",
    "X1.head() \n",
    "#X'e yeni tablomuzu aktarıyorum"
   ]
  },
  {
   "cell_type": "code",
   "execution_count": 41,
   "id": "seventh-laser",
   "metadata": {
    "execution": {
     "iopub.execute_input": "2021-05-15T15:44:02.391692Z",
     "iopub.status.busy": "2021-05-15T15:44:02.390729Z",
     "iopub.status.idle": "2021-05-15T15:44:02.394663Z",
     "shell.execute_reply": "2021-05-15T15:44:02.395138Z"
    },
    "papermill": {
     "duration": 0.083613,
     "end_time": "2021-05-15T15:44:02.395321",
     "exception": false,
     "start_time": "2021-05-15T15:44:02.311708",
     "status": "completed"
    },
    "tags": []
   },
   "outputs": [
    {
     "data": {
      "text/plain": [
       "0    192261.83\n",
       "1    191792.06\n",
       "2    191050.39\n",
       "3    182901.99\n",
       "4    166187.94\n",
       "Name: Profit, dtype: float64"
      ]
     },
     "execution_count": 41,
     "metadata": {},
     "output_type": "execute_result"
    }
   ],
   "source": [
    "y.head() # y'de yani profitte bir değişiklik yapmadık zaten."
   ]
  },
  {
   "cell_type": "code",
   "execution_count": 42,
   "id": "technical-ceremony",
   "metadata": {
    "execution": {
     "iopub.execute_input": "2021-05-15T15:44:02.551173Z",
     "iopub.status.busy": "2021-05-15T15:44:02.550510Z",
     "iopub.status.idle": "2021-05-15T15:44:02.553968Z",
     "shell.execute_reply": "2021-05-15T15:44:02.553367Z"
    },
    "papermill": {
     "duration": 0.083807,
     "end_time": "2021-05-15T15:44:02.554109",
     "exception": false,
     "start_time": "2021-05-15T15:44:02.470302",
     "status": "completed"
    },
    "tags": []
   },
   "outputs": [],
   "source": [
    "X1_train, X1_test, y_train, y_test = train_test_split(X1, y, test_size = 0.2, random_state = 0)\n",
    "\n",
    "#Test size'ı %20 , Train(öğrenme) ise %80 olarak kullanıyorum burada öğrenme veri kümesini küçük tutarak sonuçların çok iyi olmasını engelliyorum.\n",
    "#Veri setimizdeki test size 10 veriye, train ise 40 veriye tekabül ediyor.\n",
    "#random state belirtmek bu noktada önemli belirtilmezse, kodu her çalıştırdığımızda yeni bir rastgele değer oluşturulur.\n",
    "#train ve test veri kümelerinin her seferinde farklı değerleri olur. Python bu datayı her seferinde farklı yerlerinden böler.\n",
    "#Eğer bir random_state değeri belirlersek her seferinde o değere göre böler. Yani aynı test verileriyle test etmiş oluruz. Rassallığ engelleriz."
   ]
  },
  {
   "cell_type": "code",
   "execution_count": 43,
   "id": "bulgarian-division",
   "metadata": {
    "execution": {
     "iopub.execute_input": "2021-05-15T15:44:02.713236Z",
     "iopub.status.busy": "2021-05-15T15:44:02.712245Z",
     "iopub.status.idle": "2021-05-15T15:44:02.715116Z",
     "shell.execute_reply": "2021-05-15T15:44:02.714496Z"
    },
    "papermill": {
     "duration": 0.084612,
     "end_time": "2021-05-15T15:44:02.715254",
     "exception": false,
     "start_time": "2021-05-15T15:44:02.630642",
     "status": "completed"
    },
    "tags": []
   },
   "outputs": [],
   "source": [
    "lm = LinearRegression()\n",
    "model2 = lm.fit(X1_train, y_train)"
   ]
  },
  {
   "cell_type": "code",
   "execution_count": 44,
   "id": "protecting-mentor",
   "metadata": {
    "execution": {
     "iopub.execute_input": "2021-05-15T15:44:02.869496Z",
     "iopub.status.busy": "2021-05-15T15:44:02.868604Z",
     "iopub.status.idle": "2021-05-15T15:44:02.872617Z",
     "shell.execute_reply": "2021-05-15T15:44:02.873078Z"
    },
    "papermill": {
     "duration": 0.083802,
     "end_time": "2021-05-15T15:44:02.873251",
     "exception": false,
     "start_time": "2021-05-15T15:44:02.789449",
     "status": "completed"
    },
    "tags": []
   },
   "outputs": [
    {
     "data": {
      "text/plain": [
       "array([118466.20106076])"
      ]
     },
     "execution_count": 44,
     "metadata": {},
     "output_type": "execute_result"
    }
   ],
   "source": [
    "y_pred2 = model2.predict([[90000, 65000, 100000]])\n",
    "y_pred2"
   ]
  },
  {
   "cell_type": "code",
   "execution_count": 45,
   "id": "sensitive-rouge",
   "metadata": {
    "execution": {
     "iopub.execute_input": "2021-05-15T15:44:03.040201Z",
     "iopub.status.busy": "2021-05-15T15:44:03.039451Z",
     "iopub.status.idle": "2021-05-15T15:44:03.043738Z",
     "shell.execute_reply": "2021-05-15T15:44:03.043092Z"
    },
    "papermill": {
     "duration": 0.095811,
     "end_time": "2021-05-15T15:44:03.043894",
     "exception": false,
     "start_time": "2021-05-15T15:44:02.948083",
     "status": "completed"
    },
    "tags": []
   },
   "outputs": [
    {
     "data": {
      "text/html": [
       "<div>\n",
       "<style scoped>\n",
       "    .dataframe tbody tr th:only-of-type {\n",
       "        vertical-align: middle;\n",
       "    }\n",
       "\n",
       "    .dataframe tbody tr th {\n",
       "        vertical-align: top;\n",
       "    }\n",
       "\n",
       "    .dataframe thead th {\n",
       "        text-align: right;\n",
       "    }\n",
       "</style>\n",
       "<table border=\"1\" class=\"dataframe\">\n",
       "  <thead>\n",
       "    <tr style=\"text-align: right;\">\n",
       "      <th></th>\n",
       "      <th>R&amp;D Spend</th>\n",
       "      <th>Administration</th>\n",
       "      <th>Marketing Spend</th>\n",
       "      <th>Profit</th>\n",
       "      <th>kar_tahmin</th>\n",
       "    </tr>\n",
       "  </thead>\n",
       "  <tbody>\n",
       "    <tr>\n",
       "      <th>0</th>\n",
       "      <td>165349.20</td>\n",
       "      <td>136897.80</td>\n",
       "      <td>471784.10</td>\n",
       "      <td>192261.83</td>\n",
       "      <td>192169.184410</td>\n",
       "    </tr>\n",
       "    <tr>\n",
       "      <th>1</th>\n",
       "      <td>162597.70</td>\n",
       "      <td>151377.59</td>\n",
       "      <td>443898.53</td>\n",
       "      <td>191792.06</td>\n",
       "      <td>189483.876562</td>\n",
       "    </tr>\n",
       "    <tr>\n",
       "      <th>2</th>\n",
       "      <td>153441.51</td>\n",
       "      <td>101145.55</td>\n",
       "      <td>407934.54</td>\n",
       "      <td>191050.39</td>\n",
       "      <td>179627.925672</td>\n",
       "    </tr>\n",
       "    <tr>\n",
       "      <th>3</th>\n",
       "      <td>144372.41</td>\n",
       "      <td>118671.85</td>\n",
       "      <td>383199.62</td>\n",
       "      <td>182901.99</td>\n",
       "      <td>172221.114223</td>\n",
       "    </tr>\n",
       "    <tr>\n",
       "      <th>4</th>\n",
       "      <td>142107.34</td>\n",
       "      <td>91391.77</td>\n",
       "      <td>366168.42</td>\n",
       "      <td>166187.94</td>\n",
       "      <td>169064.014088</td>\n",
       "    </tr>\n",
       "    <tr>\n",
       "      <th>5</th>\n",
       "      <td>131876.90</td>\n",
       "      <td>99814.71</td>\n",
       "      <td>362861.36</td>\n",
       "      <td>156991.12</td>\n",
       "      <td>161228.904824</td>\n",
       "    </tr>\n",
       "    <tr>\n",
       "      <th>6</th>\n",
       "      <td>134615.46</td>\n",
       "      <td>147198.87</td>\n",
       "      <td>127716.82</td>\n",
       "      <td>156122.51</td>\n",
       "      <td>156592.591289</td>\n",
       "    </tr>\n",
       "    <tr>\n",
       "      <th>7</th>\n",
       "      <td>130298.13</td>\n",
       "      <td>145530.06</td>\n",
       "      <td>323876.68</td>\n",
       "      <td>155752.60</td>\n",
       "      <td>159989.786724</td>\n",
       "    </tr>\n",
       "    <tr>\n",
       "      <th>8</th>\n",
       "      <td>120542.52</td>\n",
       "      <td>148718.95</td>\n",
       "      <td>311613.29</td>\n",
       "      <td>152211.77</td>\n",
       "      <td>152059.779387</td>\n",
       "    </tr>\n",
       "    <tr>\n",
       "      <th>9</th>\n",
       "      <td>123334.88</td>\n",
       "      <td>108679.17</td>\n",
       "      <td>304981.62</td>\n",
       "      <td>149759.96</td>\n",
       "      <td>152827.551835</td>\n",
       "    </tr>\n",
       "  </tbody>\n",
       "</table>\n",
       "</div>"
      ],
      "text/plain": [
       "   R&D Spend  Administration  Marketing Spend     Profit     kar_tahmin\n",
       "0  165349.20       136897.80        471784.10  192261.83  192169.184410\n",
       "1  162597.70       151377.59        443898.53  191792.06  189483.876562\n",
       "2  153441.51       101145.55        407934.54  191050.39  179627.925672\n",
       "3  144372.41       118671.85        383199.62  182901.99  172221.114223\n",
       "4  142107.34        91391.77        366168.42  166187.94  169064.014088\n",
       "5  131876.90        99814.71        362861.36  156991.12  161228.904824\n",
       "6  134615.46       147198.87        127716.82  156122.51  156592.591289\n",
       "7  130298.13       145530.06        323876.68  155752.60  159989.786724\n",
       "8  120542.52       148718.95        311613.29  152211.77  152059.779387\n",
       "9  123334.88       108679.17        304981.62  149759.96  152827.551835"
      ]
     },
     "execution_count": 45,
     "metadata": {},
     "output_type": "execute_result"
    }
   ],
   "source": [
    "df[\"kar_tahmin\"] = model2.predict(X1)\n",
    "df.head(10)"
   ]
  },
  {
   "cell_type": "markdown",
   "id": "light-ratio",
   "metadata": {
    "papermill": {
     "duration": 0.074326,
     "end_time": "2021-05-15T15:44:03.194664",
     "exception": false,
     "start_time": "2021-05-15T15:44:03.120338",
     "status": "completed"
    },
    "tags": []
   },
   "source": [
    "* Değerler eskisinden farklı. MSE RMSE ve R Squared değerlerini d bulup yeni modelin daha iyi mi yoksa daha kötü mü olduğuna bakalım."
   ]
  },
  {
   "cell_type": "code",
   "execution_count": 46,
   "id": "infrared-market",
   "metadata": {
    "execution": {
     "iopub.execute_input": "2021-05-15T15:44:03.350063Z",
     "iopub.status.busy": "2021-05-15T15:44:03.349271Z",
     "iopub.status.idle": "2021-05-15T15:44:03.353153Z",
     "shell.execute_reply": "2021-05-15T15:44:03.352495Z"
    },
    "papermill": {
     "duration": 0.084056,
     "end_time": "2021-05-15T15:44:03.353299",
     "exception": false,
     "start_time": "2021-05-15T15:44:03.269243",
     "status": "completed"
    },
    "tags": []
   },
   "outputs": [
    {
     "name": "stdout",
     "output_type": "stream",
     "text": [
      "Hata Kareler Ortalaması Degeri(MSE1): 81056127.50873542\n"
     ]
    }
   ],
   "source": [
    "MSE1 = mean_squared_error(df[\"Profit\"], df[\"kar_tahmin\"])\n",
    "print(\"Hata Kareler Ortalaması Degeri(MSE1):\", MSE1)  "
   ]
  },
  {
   "cell_type": "markdown",
   "id": "national-watch",
   "metadata": {
    "papermill": {
     "duration": 0.075337,
     "end_time": "2021-05-15T15:44:03.503794",
     "exception": false,
     "start_time": "2021-05-15T15:44:03.428457",
     "status": "completed"
    },
    "tags": []
   },
   "source": [
    "* Hata Kareler Ortalaması Degeri(MSE): 81957374.24681288 idi.\n",
    "* Yeni  MSE1 değeri 81056127.50873542 çok küçük de olsa bir düşüş var. Tahmin değerleri ile gerçek değerler arasında daha iyi bir regresyon olduğunu söyleyebiliriz.\n"
   ]
  },
  {
   "cell_type": "code",
   "execution_count": 47,
   "id": "massive-semiconductor",
   "metadata": {
    "execution": {
     "iopub.execute_input": "2021-05-15T15:44:03.661771Z",
     "iopub.status.busy": "2021-05-15T15:44:03.661017Z",
     "iopub.status.idle": "2021-05-15T15:44:03.664397Z",
     "shell.execute_reply": "2021-05-15T15:44:03.664935Z"
    },
    "papermill": {
     "duration": 0.083407,
     "end_time": "2021-05-15T15:44:03.665112",
     "exception": false,
     "start_time": "2021-05-15T15:44:03.581705",
     "status": "completed"
    },
    "tags": []
   },
   "outputs": [
    {
     "name": "stdout",
     "output_type": "stream",
     "text": [
      "Hata Kareler Ortalamasının Karekök Degeri(RMSE1): 9003.117654942393\n"
     ]
    }
   ],
   "source": [
    "RMSE1 = math.sqrt(MSE1)\n",
    "print(\"Hata Kareler Ortalamasının Karekök Degeri(RMSE1):\", RMSE1)"
   ]
  },
  {
   "cell_type": "markdown",
   "id": "anticipated-atmosphere",
   "metadata": {
    "papermill": {
     "duration": 0.076882,
     "end_time": "2021-05-15T15:44:03.820177",
     "exception": false,
     "start_time": "2021-05-15T15:44:03.743295",
     "status": "completed"
    },
    "tags": []
   },
   "source": [
    "Hata Kareler Ortalamasının Karekök Degeri(RMSE): 9053.031218703098 idi yeni RMSE1 değeri 9003.117654942393"
   ]
  },
  {
   "cell_type": "code",
   "execution_count": 48,
   "id": "hybrid-brunswick",
   "metadata": {
    "execution": {
     "iopub.execute_input": "2021-05-15T15:44:03.980167Z",
     "iopub.status.busy": "2021-05-15T15:44:03.979435Z",
     "iopub.status.idle": "2021-05-15T15:44:03.983077Z",
     "shell.execute_reply": "2021-05-15T15:44:03.982467Z"
    },
    "papermill": {
     "duration": 0.086708,
     "end_time": "2021-05-15T15:44:03.983212",
     "exception": false,
     "start_time": "2021-05-15T15:44:03.896504",
     "status": "completed"
    },
    "tags": []
   },
   "outputs": [
    {
     "data": {
      "text/plain": [
       "0.9499572530324031"
      ]
     },
     "execution_count": 48,
     "metadata": {},
     "output_type": "execute_result"
    }
   ],
   "source": [
    "model2.score(X1_train,y_train) "
   ]
  },
  {
   "cell_type": "markdown",
   "id": "southwest-peter",
   "metadata": {
    "papermill": {
     "duration": 0.078133,
     "end_time": "2021-05-15T15:44:04.138022",
     "exception": false,
     "start_time": "2021-05-15T15:44:04.059889",
     "status": "completed"
    },
    "tags": []
   },
   "source": [
    "R Squared: 0.9501847627493607 idi r squared değerinin ise çok küçük bir düşüş yaşadığını görüyoruz."
   ]
  }
 ],
 "metadata": {
  "kernelspec": {
   "display_name": "Python 3",
   "language": "python",
   "name": "python3"
  },
  "language_info": {
   "codemirror_mode": {
    "name": "ipython",
    "version": 3
   },
   "file_extension": ".py",
   "mimetype": "text/x-python",
   "name": "python",
   "nbconvert_exporter": "python",
   "pygments_lexer": "ipython3",
   "version": "3.7.10"
  },
  "papermill": {
   "default_parameters": {},
   "duration": 24.912206,
   "end_time": "2021-05-15T15:44:05.024629",
   "environment_variables": {},
   "exception": null,
   "input_path": "__notebook__.ipynb",
   "output_path": "__notebook__.ipynb",
   "parameters": {},
   "start_time": "2021-05-15T15:43:40.112423",
   "version": "2.3.3"
  }
 },
 "nbformat": 4,
 "nbformat_minor": 5
}
